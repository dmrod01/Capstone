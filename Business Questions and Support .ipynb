{
 "cells": [
  {
   "cell_type": "markdown",
   "metadata": {
    "collapsed": true
   },
   "source": [
    "## Data Breach Analytics 2005 - 2017 (Business Questions and Support)\n",
    "\n",
    "**By Miriam Rodriguez**\n"
   ]
  },
  {
   "cell_type": "markdown",
   "metadata": {},
   "source": [
    "### Exploratory Data Analysis(EDA) and Data Visualization\n",
    "- Correlation \n",
    "- Basic Statistical Analysis \n",
    "- Hypothesis Testing\n",
    "- Data visualization\n",
    "- Insights from EDA and data visualization"
   ]
  },
  {
   "cell_type": "markdown",
   "metadata": {},
   "source": [
    "### Data Description\n",
    "\n",
    "#### Dataset\n",
    "- Dataset name:              databreach_cleaned.csv\n",
    "- Duration of the data:      2005 through 2017\n",
    "\n",
    "#### Data Breach Types\n",
    "- 1: CARD - Payment Card Fraud:    Fraud involving debit and credit cards that is not accomplished via hacking (e.g.                                                skimming devices at point-of-service terminals).\n",
    "- 2: HACK - Hacking or Malware:    Hacked by outside party or infected by malware\n",
    "- 3: INSD - Insider:               Someone with legitimate access intentionally breaches information, such as an employee,                                          contractor, or customer)\n",
    "- 4: PHYS - Physical Loss:         Includes paper documents that are lost, discarded, or stolen (non-electronic)\n",
    "- 5: PORT - Portable Device:       Lost, discarded, or stolen laptop, PDA, smartphone, memory stick, CDs, hard drive, data                                          tape, etc.\n",
    "- 6: STAT - Stationary Device:     Stationary computer loss (lost, inappropriately accessed, discarded, or stolen computer                                          or server not designed for mobility)\n",
    "- 7: DISC - Unintended Disclosure: Unintended disclosure (not involving hacking, intentional breach, or physical loss i.e.                                          sensitive information posted publicly, mishandled, sent to the wrong party via publishing                                      online, sending in an email, sending in a mailing or sending via fax.\n",
    "- 0: Unknown\n",
    "\n",
    "#### Institution/Organization) Type\n",
    "Numeric/ Alpha/  Description\n",
    "- 1     BSF - Businesses - Financial and Insurance Services\n",
    "- 2\t    BSO - Businesses - Other\n",
    "- 3  \tBSR - Businesses - Retail/Merchant – Including Online Retail\n",
    "- 4 \tEDU - Educational Institutions\n",
    "- 5 \tGOV - Government & Military\n",
    "- 6 \tMED - Healthcare - Medical Providers & Medical Insurance Services\n",
    "- 7 \tNGO - Nonprofit Organizations\n",
    "\n",
    "#### Data elements/column names\n",
    "1.\tBreach_Year: Year Breach information released to public \n",
    "2.\tCompany: Company breached (text)\n",
    "3.\tState: State of breached company (text)\n",
    "4.\tBreach_Type: Refer to four-character Breach Type above\n",
    "5.\tOrganization_Type: Refer to three-character Institution/Organization Type above\n",
    "6.\tTotal_Records: Number of records breached (integer)\n",
    "7.\tDescriptiont: Text describing breach (text)\n",
    "8.\tBreach_Type_CAT: Numerical assignment to four-character Breach Type above\n",
    "9.\tOrganization_Type_CAT: Numerical assignment to three-character Institution/Organization Type above\n",
    "10.\tLatitude: Location Latitude (signed numeric long)\n",
    "11.\tLongitude: Location Longitude (signed numeric long)\n",
    "\n",
    "#### State column names \n",
    "1.\n",
    "2.\n",
    "...\n",
    "53\n",
    "\n",
    "#### Breach_Year column names\n",
    "1. 2005\n",
    "2. 2006\n",
    "3. 2007\n",
    "4. 2008\n",
    "5. 2009\n",
    "6. 2010\n",
    "7. 2011\n",
    "8. 2012\n",
    "9. 2013\n",
    "10. 2014\n",
    "11. 2015\n",
    "12. 2016\n",
    "13. 2017\n",
    "14. 2018"
   ]
  },
  {
   "cell_type": "markdown",
   "metadata": {},
   "source": [
    "### Importing packages "
   ]
  },
  {
   "cell_type": "code",
   "execution_count": 1,
   "metadata": {},
   "outputs": [],
   "source": [
    "# the popular python package for data visualization\n",
    "import matplotlib.pyplot as plt\n",
    "%matplotlib inline\n",
    "\n",
    "# import some other packages\n",
    "import numpy as np\n",
    "import pandas as pd\n",
    "import seaborn as sns  #package for statistical data visualization\n",
    "from scipy import stats\n",
    "from pandas.tools import plotting\n",
    "import datetime\n",
    "from sklearn import linear_model\n",
    "\n"
   ]
  },
  {
   "cell_type": "markdown",
   "metadata": {},
   "source": [
    "# Importing Data & Processing (ETL)"
   ]
  },
  {
   "cell_type": "code",
   "execution_count": 4,
   "metadata": {},
   "outputs": [
    {
     "data": {
      "text/html": [
       "<div>\n",
       "<style scoped>\n",
       "    .dataframe tbody tr th:only-of-type {\n",
       "        vertical-align: middle;\n",
       "    }\n",
       "\n",
       "    .dataframe tbody tr th {\n",
       "        vertical-align: top;\n",
       "    }\n",
       "\n",
       "    .dataframe thead th {\n",
       "        text-align: right;\n",
       "    }\n",
       "</style>\n",
       "<table border=\"1\" class=\"dataframe\">\n",
       "  <thead>\n",
       "    <tr style=\"text-align: right;\">\n",
       "      <th></th>\n",
       "      <th>Breach_Year</th>\n",
       "      <th>Company</th>\n",
       "      <th>State</th>\n",
       "      <th>Breach_Type</th>\n",
       "      <th>Organization_Type</th>\n",
       "      <th>Total_Recs</th>\n",
       "      <th>Description</th>\n",
       "      <th>Latitude</th>\n",
       "      <th>Longitude</th>\n",
       "      <th>Breach_Type_CAT</th>\n",
       "      <th>Organization_Type_CAT</th>\n",
       "      <th>State_CAT</th>\n",
       "      <th>Year_CAT</th>\n",
       "      <th>GDP</th>\n",
       "    </tr>\n",
       "  </thead>\n",
       "  <tbody>\n",
       "    <tr>\n",
       "      <th>0</th>\n",
       "      <td>2006</td>\n",
       "      <td>Deloitte &amp; Touche, McAfee</td>\n",
       "      <td>United States</td>\n",
       "      <td>PORT</td>\n",
       "      <td>BSO</td>\n",
       "      <td>9290</td>\n",
       "      <td>An external auditor lost a CD with names, Soci...</td>\n",
       "      <td>37.090240</td>\n",
       "      <td>-95.712891</td>\n",
       "      <td>5</td>\n",
       "      <td>2</td>\n",
       "      <td>0</td>\n",
       "      <td>2</td>\n",
       "      <td>72466970</td>\n",
       "    </tr>\n",
       "    <tr>\n",
       "      <th>1</th>\n",
       "      <td>2007</td>\n",
       "      <td>TennCare, Americhoice Inc.</td>\n",
       "      <td>United States</td>\n",
       "      <td>PORT</td>\n",
       "      <td>MED</td>\n",
       "      <td>67000</td>\n",
       "      <td>There are 67,000 TennCare \\r\\n            enro...</td>\n",
       "      <td>35.960638</td>\n",
       "      <td>-83.920739</td>\n",
       "      <td>5</td>\n",
       "      <td>6</td>\n",
       "      <td>0</td>\n",
       "      <td>3</td>\n",
       "      <td>75725457</td>\n",
       "    </tr>\n",
       "  </tbody>\n",
       "</table>\n",
       "</div>"
      ],
      "text/plain": [
       "   Breach_Year                        Company          State Breach_Type  \\\n",
       "0         2006      Deloitte & Touche, McAfee  United States        PORT   \n",
       "1         2007  TennCare, Americhoice Inc.     United States        PORT   \n",
       "\n",
       "  Organization_Type  Total_Recs  \\\n",
       "0               BSO        9290   \n",
       "1               MED       67000   \n",
       "\n",
       "                                         Description   Latitude  Longitude  \\\n",
       "0  An external auditor lost a CD with names, Soci...  37.090240 -95.712891   \n",
       "1  There are 67,000 TennCare \\r\\n            enro...  35.960638 -83.920739   \n",
       "\n",
       "   Breach_Type_CAT  Organization_Type_CAT  State_CAT  Year_CAT       GDP  \n",
       "0                5                      2          0         2  72466970  \n",
       "1                5                      6          0         3  75725457  "
      ]
     },
     "execution_count": 4,
     "metadata": {},
     "output_type": "execute_result"
    }
   ],
   "source": [
    "#import breach data ... open or read the breach data\n",
    "df = pd.read_csv(\"databreach_cleaned.csv\")\n",
    "df.head(2)"
   ]
  },
  {
   "cell_type": "markdown",
   "metadata": {},
   "source": [
    "## Part I: Business Questions"
   ]
  },
  {
   "cell_type": "markdown",
   "metadata": {},
   "source": [
    "### What types of data breaches are more popular than others or which data breach type is most popular?"
   ]
  },
  {
   "cell_type": "markdown",
   "metadata": {},
   "source": [
    "**In terms of the number of incidents, out of 8177 incidents, 2,431 were caused by hacking.** "
   ]
  },
  {
   "cell_type": "code",
   "execution_count": 3,
   "metadata": {},
   "outputs": [
    {
     "data": {
      "text/plain": [
       "count     8177\n",
       "unique       8\n",
       "top       HACK\n",
       "freq      2431\n",
       "Name: Breach_Type, dtype: object"
      ]
     },
     "execution_count": 3,
     "metadata": {},
     "output_type": "execute_result"
    }
   ],
   "source": [
    "#describe the column Type of Breach only (e.g., count, unique, frequency)\n",
    "df['Breach_Type'].describe()"
   ]
  },
  {
   "cell_type": "markdown",
   "metadata": {},
   "source": [
    "**In terms of the number of total records, hacking caused the greatest degree of harm compared to all other causes.** "
   ]
  },
  {
   "cell_type": "code",
   "execution_count": 5,
   "metadata": {},
   "outputs": [
    {
     "data": {
      "text/plain": [
       "Breach_Type\n",
       "CARD       9203036\n",
       "DISC    2223075024\n",
       "HACK    7733557148\n",
       "INSD      83580556\n",
       "PHYS      39600563\n",
       "PORT     185650895\n",
       "STAT      16235932\n",
       "UNKN     202910247\n",
       "Name: Total_Recs, dtype: int64"
      ]
     },
     "execution_count": 5,
     "metadata": {},
     "output_type": "execute_result"
    }
   ],
   "source": [
    "df.groupby('Breach_Type').Total_Recs.sum()"
   ]
  },
  {
   "cell_type": "code",
   "execution_count": 209,
   "metadata": {},
   "outputs": [
    {
     "data": {
      "text/plain": [
       "Text(0.5,1,'Total Records by Breach Type')"
      ]
     },
     "execution_count": 209,
     "metadata": {},
     "output_type": "execute_result"
    },
    {
     "data": {
      "image/png": "[encoded data removed]",
      "text/plain": [
       "<Figure size 432x288 with 1 Axes>"
      ]
     },
     "metadata": {},
     "output_type": "display_data"
    }
   ],
   "source": [
    "bt_count = df.groupby('Breach_Type').Total_Recs.sum()\n",
    "plt.figure\n",
    "bt_count.plot(kind='bar')\n",
    "plt.xlabel('Breach Type')\n",
    "plt.ylabel('Total Records')\n",
    "plt.title(\"Total Records by Breach Type\")"
   ]
  },
  {
   "cell_type": "markdown",
   "metadata": {},
   "source": [
    "### What are the three main causes of data breach?"
   ]
  },
  {
   "cell_type": "markdown",
   "metadata": {},
   "source": [
    "**Comparison of the results below reveal the top three causes are Hacking, Disclosure, and Physical Theft**"
   ]
  },
  {
   "cell_type": "code",
   "execution_count": 6,
   "metadata": {},
   "outputs": [
    {
     "data": {
      "text/plain": [
       "Breach_Type\n",
       "CARD      68\n",
       "DISC    1708\n",
       "HACK    2431\n",
       "INSD     609\n",
       "PHYS    1691\n",
       "PORT    1172\n",
       "STAT     249\n",
       "UNKN     249\n",
       "dtype: int64"
      ]
     },
     "execution_count": 6,
     "metadata": {},
     "output_type": "execute_result"
    }
   ],
   "source": [
    "df.groupby(['Breach_Type']).size()"
   ]
  },
  {
   "cell_type": "code",
   "execution_count": 7,
   "metadata": {},
   "outputs": [],
   "source": [
    "# Breaches by Breach Type\n",
    "bcount = df.groupby('Breach_Type').size()"
   ]
  },
  {
   "cell_type": "code",
   "execution_count": 8,
   "metadata": {},
   "outputs": [
    {
     "data": {
      "text/plain": [
       "Text(0.5,1,'Breach Occurrences by Breach Type')"
      ]
     },
     "execution_count": 8,
     "metadata": {},
     "output_type": "execute_result"
    },
    {
     "data": {
      "image/png": "[encoded data removed]",
      "text/plain": [
       "<Figure size 432x288 with 1 Axes>"
      ]
     },
     "metadata": {},
     "output_type": "display_data"
    }
   ],
   "source": [
    "plt.figure\n",
    "bcount.plot(kind='bar')\n",
    "plt.xlabel('Breach Type')\n",
    "plt.ylabel('Breach Count')\n",
    "plt.title(\"Breach Occurrences by Breach Type\")"
   ]
  },
  {
   "cell_type": "markdown",
   "metadata": {},
   "source": [
    "### What types of organizations are more likely to have a data breach? Which organization type has the highest number of data breaches?"
   ]
  },
  {
   "cell_type": "markdown",
   "metadata": {},
   "source": [
    "**In terms of the number of incidents, healthcare (MED) organizations had the highest number of data breaches.** "
   ]
  },
  {
   "cell_type": "code",
   "execution_count": 9,
   "metadata": {},
   "outputs": [
    {
     "data": {
      "text/plain": [
       "Organization_Type\n",
       "BSF     746\n",
       "BSO    1028\n",
       "BSR     615\n",
       "EDU     818\n",
       "GOV     775\n",
       "MED    4077\n",
       "NGO     118\n",
       "dtype: int64"
      ]
     },
     "execution_count": 9,
     "metadata": {},
     "output_type": "execute_result"
    }
   ],
   "source": [
    "df.groupby('Organization_Type').size()"
   ]
  },
  {
   "cell_type": "code",
   "execution_count": 10,
   "metadata": {},
   "outputs": [
    {
     "data": {
      "text/plain": [
       "<matplotlib.legend.Legend at 0xf2dfa58>"
      ]
     },
     "execution_count": 10,
     "metadata": {},
     "output_type": "execute_result"
    },
    {
     "data": {
      "image/png": "[encoded data removed]",
      "text/plain": [
       "<Figure size 432x288 with 1 Axes>"
      ]
     },
     "metadata": {},
     "output_type": "display_data"
    }
   ],
   "source": [
    "# using matplotlib\n",
    "# Histogram of Breach occurrences by Organization Type - Visualization\n",
    "bins = 7\n",
    "plt.hist(df['Organization_Type_CAT'], bins, color='navy', label=\"Breach Occurrences\")\n",
    "plt.xlabel('Organizaton Type')\n",
    "plt.title('Breach Occurrences by Organization Type')\n",
    "plt.legend()"
   ]
  },
  {
   "cell_type": "markdown",
   "metadata": {},
   "source": [
    "#### Institution/Organization) Type\n",
    "Numeric/ Alpha/  Description\n",
    "- 1     BSF - Businesses - Financial and Insurance Services\n",
    "- 2\t    BSO - Businesses - Other\n",
    "- 3  \tBSR - Businesses - Retail/Merchant – Including Online Retail\n",
    "- 4 \tEDU - Educational Institutions\n",
    "- 5 \tGOV - Government & Military\n",
    "- 6 \tMED - Healthcare - Medical Providers & Medical Insurance Services\n",
    "- 7 \tNGO - Nonprofit Organizations"
   ]
  },
  {
   "cell_type": "markdown",
   "metadata": {},
   "source": [
    "#### In terms of the number of total records affected, businesses categorized as other (BSO) were the hardest hit.  "
   ]
  },
  {
   "cell_type": "code",
   "execution_count": 11,
   "metadata": {},
   "outputs": [
    {
     "data": {
      "text/plain": [
       "Organization_Type\n",
       "BSF     643326992\n",
       "BSO    8584664122\n",
       "BSR     774221630\n",
       "EDU      25162790\n",
       "GOV     227408042\n",
       "MED     230595280\n",
       "NGO       8434545\n",
       "Name: Total_Recs, dtype: int64"
      ]
     },
     "execution_count": 11,
     "metadata": {},
     "output_type": "execute_result"
    }
   ],
   "source": [
    "df.groupby('Organization_Type').Total_Recs.sum()"
   ]
  },
  {
   "cell_type": "code",
   "execution_count": 211,
   "metadata": {},
   "outputs": [
    {
     "data": {
      "text/plain": [
       "<seaborn.axisgrid.FacetGrid at 0x26bc9b38>"
      ]
     },
     "execution_count": 211,
     "metadata": {},
     "output_type": "execute_result"
    },
    {
     "data": {
      "image/png": "[encoded data removed]",
      "text/plain": [
       "<Figure size 360x360 with 1 Axes>"
      ]
     },
     "metadata": {},
     "output_type": "display_data"
    }
   ],
   "source": [
    "# draw a scatter chart: Total Records Breached vs Organization Type \n",
    "sns.lmplot('Organization_Type_CAT', 'Total_Recs', data=df, fit_reg=False)"
   ]
  },
  {
   "cell_type": "markdown",
   "metadata": {},
   "source": [
    "**Which organization types appear to be the target of data breaches?**"
   ]
  },
  {
   "cell_type": "markdown",
   "metadata": {},
   "source": [
    "- MED    4077\n",
    "- BSO    1028\n",
    "- EDU     818\n",
    "- GOV     775\n",
    "- BSF     746\n",
    "- BSR     615\n",
    "- NGO     118\n",
    "\n",
    "**The biggest target appears to be healthcare, followed by other businesses.  Educational, government, financial services, retail (including online) and least non-government organizations.** "
   ]
  },
  {
   "cell_type": "markdown",
   "metadata": {},
   "source": [
    "## States & Data Breaches"
   ]
  },
  {
   "cell_type": "markdown",
   "metadata": {},
   "source": [
    "## Which US states are more likely to have data breaches?"
   ]
  },
  {
   "cell_type": "markdown",
   "metadata": {},
   "source": [
    "### Florida, Texas, California and New York seem to be targets for data breaches. In terms of harm (total records), California, Wisconsin and Oregon are the top states."
   ]
  },
  {
   "cell_type": "code",
   "execution_count": 16,
   "metadata": {},
   "outputs": [
    {
     "data": {
      "text/plain": [
       "State\n",
       "Alabama                    2863834\n",
       "Alaska                      162796\n",
       "Arizona                   44480790\n",
       "Arkansas                   1344475\n",
       "California              5531439456\n",
       "Colorado                   5746790\n",
       "Connecticut                3619364\n",
       "Delaware                   4345634\n",
       "District Of Columbia     194504597\n",
       "Florida                   60040680\n",
       "Georgia                  239752572\n",
       "Hawaii                      491635\n",
       "Idaho                       151068\n",
       "Illinois                  21123920\n",
       "Indiana                  167560413\n",
       "Iowa                        753380\n",
       "Kansas                     7855156\n",
       "Kentucky                   1513836\n",
       "Louisiana                   394598\n",
       "Maine                      4246207\n",
       "Maryland                  10717217\n",
       "Massachusetts            104877649\n",
       "Michigan                   4017796\n",
       "Minnesota                 45936241\n",
       "Mississippi                 267347\n",
       "Missouri                   8991542\n",
       "Montana                    1470636\n",
       "Nebraska                   7769896\n",
       "Nevada                    24828339\n",
       "New Hampshire               811669\n",
       "New Jersey               147056097\n",
       "New Mexico                  264385\n",
       "New York                 325995964\n",
       "North Carolina            10393941\n",
       "North Dakota                404138\n",
       "Ohio                       8540987\n",
       "Oklahoma                   2307081\n",
       "Oregon                  1371866496\n",
       "Pennsylvania              17352597\n",
       "Puerto Rico                 843725\n",
       "Rhode Island                301432\n",
       "South Carolina             8136977\n",
       "South Dakota                 43486\n",
       "Tennessee                 13816500\n",
       "Texas                    348393626\n",
       "United States            411030974\n",
       "Utah                       4520032\n",
       "Vermont                     153134\n",
       "Virginia                 208357382\n",
       "Washington               110223982\n",
       "West Virginia               308666\n",
       "Wisconsin               1001349248\n",
       "Wyoming                      73018\n",
       "Name: Total_Recs, dtype: int64"
      ]
     },
     "execution_count": 16,
     "metadata": {},
     "output_type": "execute_result"
    }
   ],
   "source": [
    "df.groupby('State').Total_Recs.sum()"
   ]
  },
  {
   "cell_type": "code",
   "execution_count": 18,
   "metadata": {},
   "outputs": [
    {
     "data": {
      "text/plain": [
       "State\n",
       "Alabama                  309\n",
       "Alaska                    90\n",
       "Arizona                  495\n",
       "Arkansas                 234\n",
       "California              4946\n",
       "Colorado                 696\n",
       "Connecticut              554\n",
       "Delaware                  70\n",
       "District Of Columbia     583\n",
       "Florida                 1753\n",
       "Georgia                  962\n",
       "Hawaii                   116\n",
       "Idaho                     78\n",
       "Illinois                1351\n",
       "Indiana                  863\n",
       "Iowa                     250\n",
       "Kansas                   224\n",
       "Kentucky                 493\n",
       "Louisiana                258\n",
       "Maine                    101\n",
       "Maryland                1440\n",
       "Massachusetts            893\n",
       "Michigan                 577\n",
       "Minnesota                599\n",
       "Mississippi              157\n",
       "Missouri                 551\n",
       "Montana                  143\n",
       "Nebraska                 149\n",
       "Nevada                   231\n",
       "New Hampshire            149\n",
       "New Jersey               590\n",
       "New Mexico               224\n",
       "New York                2504\n",
       "North Carolina           904\n",
       "North Dakota              36\n",
       "Ohio                    1104\n",
       "Oklahoma                 261\n",
       "Oregon                   521\n",
       "Pennsylvania            1045\n",
       "Puerto Rico              135\n",
       "Rhode Island             189\n",
       "South Carolina           324\n",
       "South Dakota              44\n",
       "Tennessee                691\n",
       "Texas                   2217\n",
       "United States            272\n",
       "Utah                     233\n",
       "Vermont                  117\n",
       "Virginia                 783\n",
       "Washington               751\n",
       "West Virginia            100\n",
       "Wisconsin                413\n",
       "Wyoming                   58\n",
       "Name: Breach_Type_CAT, dtype: int64"
      ]
     },
     "execution_count": 18,
     "metadata": {},
     "output_type": "execute_result"
    }
   ],
   "source": [
    "df.groupby('State').Breach_Type_CAT.sum()"
   ]
  },
  {
   "cell_type": "code",
   "execution_count": 35,
   "metadata": {},
   "outputs": [],
   "source": [
    "# Obtain counts to get breach count by State\n",
    "st_count = df.groupby('State').Total_Recs.sum()"
   ]
  },
  {
   "cell_type": "code",
   "execution_count": 30,
   "metadata": {},
   "outputs": [],
   "source": [
    "# how many breaches were in each breach type category by state\n",
    "breachtype_count = df.groupby('State').Breach_Type.count()"
   ]
  },
  {
   "cell_type": "code",
   "execution_count": 38,
   "metadata": {},
   "outputs": [
    {
     "data": {
      "text/plain": [
       "Text(0.5,1,'Total Records Affected by Breaches by State')"
      ]
     },
     "execution_count": 38,
     "metadata": {},
     "output_type": "execute_result"
    },
    {
     "data": {
      "image/png": "[encoded data removed]",
      "text/plain": [
       "<Figure size 864x864 with 1 Axes>"
      ]
     },
     "metadata": {},
     "output_type": "display_data"
    }
   ],
   "source": [
    "bins = 53\n",
    "#plt.figure\n",
    "plt.figure(bins, figsize=(12,12))\n",
    "st_count.plot(kind='bar')\n",
    "plt.xlabel('State')\n",
    "plt.ylabel('Total_Records')\n",
    "plt.title(\"Total Records Affected by Breaches by State\")"
   ]
  },
  {
   "cell_type": "code",
   "execution_count": 34,
   "metadata": {},
   "outputs": [
    {
     "data": {
      "text/plain": [
       "Text(0.5,1,'Breaches by State')"
      ]
     },
     "execution_count": 34,
     "metadata": {},
     "output_type": "execute_result"
    },
    {
     "data": {
      "image/png": "[encoded data removed]",
      "text/plain": [
       "<Figure size 1080x1080 with 1 Axes>"
      ]
     },
     "metadata": {},
     "output_type": "display_data"
    }
   ],
   "source": [
    "bins = 53\n",
    "#plt.figure\n",
    "plt.figure(bins, figsize=(15,15))\n",
    "breachtype_count.plot(kind='bar')\n",
    "plt.xlabel('State')\n",
    "plt.ylabel('Count by State')\n",
    "plt.title(\"Breaches by State\")"
   ]
  },
  {
   "cell_type": "markdown",
   "metadata": {},
   "source": [
    "### Which US states are less likely to have data breaches? (probability).  "
   ]
  },
  {
   "cell_type": "markdown",
   "metadata": {},
   "source": [
    "**Based on past years, it appears that North and South Dakota and Wyoming have the least chance of data breaches.**"
   ]
  },
  {
   "cell_type": "markdown",
   "metadata": {},
   "source": [
    "### What are the top three states in terms of the number of data breaches in 2017?"
   ]
  },
  {
   "cell_type": "markdown",
   "metadata": {},
   "source": [
    "### Per the below graphs and counts for 2017 (Year_CAT = 13), California, New York and Texas are the top three states."
   ]
  },
  {
   "cell_type": "code",
   "execution_count": 60,
   "metadata": {},
   "outputs": [],
   "source": [
    "df_y2017 = df[df.Year_CAT == 13]"
   ]
  },
  {
   "cell_type": "code",
   "execution_count": 62,
   "metadata": {},
   "outputs": [],
   "source": [
    "# how many breaches were in 2017 by state\n",
    "breach_2017_count = df_y2017.groupby('State').Breach_Type.count()"
   ]
  },
  {
   "cell_type": "code",
   "execution_count": 63,
   "metadata": {},
   "outputs": [
    {
     "data": {
      "text/plain": [
       "Text(0.5,1,'Breaches by State')"
      ]
     },
     "execution_count": 63,
     "metadata": {},
     "output_type": "execute_result"
    },
    {
     "data": {
      "image/png": "[encoded data removed]",
      "text/plain": [
       "<Figure size 1080x1080 with 1 Axes>"
      ]
     },
     "metadata": {},
     "output_type": "display_data"
    }
   ],
   "source": [
    "bins = 53\n",
    "#plt.figure\n",
    "plt.figure(bins, figsize=(15,15))\n",
    "breach_2017_count.plot(kind='bar')\n",
    "plt.xlabel('State')\n",
    "plt.ylabel('Count by State')\n",
    "plt.title(\"Breaches by State\")"
   ]
  },
  {
   "cell_type": "code",
   "execution_count": 61,
   "metadata": {},
   "outputs": [
    {
     "data": {
      "text/plain": [
       "State\n",
       "Alabama                   4\n",
       "Alaska                    2\n",
       "Arizona                  14\n",
       "Arkansas                  3\n",
       "California              136\n",
       "Colorado                 11\n",
       "Connecticut              10\n",
       "Delaware                  3\n",
       "District Of Columbia      4\n",
       "Florida                  26\n",
       "Georgia                  17\n",
       "Hawaii                    1\n",
       "Idaho                     1\n",
       "Illinois                 21\n",
       "Indiana                  12\n",
       "Iowa                      5\n",
       "Kansas                    5\n",
       "Kentucky                 10\n",
       "Louisiana                 4\n",
       "Maine                     3\n",
       "Maryland                 20\n",
       "Massachusetts            10\n",
       "Michigan                 12\n",
       "Minnesota                 9\n",
       "Mississippi               3\n",
       "Missouri                 16\n",
       "Montana                   1\n",
       "Nebraska                  3\n",
       "Nevada                    2\n",
       "New Hampshire             2\n",
       "New Jersey               13\n",
       "New Mexico                1\n",
       "New York                 36\n",
       "North Carolina           11\n",
       "North Dakota              4\n",
       "Ohio                     15\n",
       "Oklahoma                  8\n",
       "Oregon                    7\n",
       "Pennsylvania             16\n",
       "Rhode Island              4\n",
       "South Carolina            2\n",
       "South Dakota              1\n",
       "Tennessee                11\n",
       "Texas                    47\n",
       "United States             4\n",
       "Utah                      3\n",
       "Vermont                   3\n",
       "Virginia                 16\n",
       "Washington               16\n",
       "West Virginia             2\n",
       "Wisconsin                11\n",
       "Wyoming                   1\n",
       "dtype: int64"
      ]
     },
     "execution_count": 61,
     "metadata": {},
     "output_type": "execute_result"
    }
   ],
   "source": [
    "df_y2017.groupby(['State']).size()"
   ]
  },
  {
   "cell_type": "markdown",
   "metadata": {},
   "source": [
    "## Relationships between organizations, state and data breaches"
   ]
  },
  {
   "cell_type": "markdown",
   "metadata": {},
   "source": [
    "### Organizations & Data breaches"
   ]
  },
  {
   "cell_type": "markdown",
   "metadata": {},
   "source": [
    "### Which organization type is more vulnerable to “Hackers”?"
   ]
  },
  {
   "cell_type": "markdown",
   "metadata": {},
   "source": [
    "### The organization type most vulnerable to 'Hackers' is healthcare (MED)."
   ]
  },
  {
   "cell_type": "code",
   "execution_count": 47,
   "metadata": {},
   "outputs": [],
   "source": [
    "df_hack = df[df.Breach_Type == 'HACK']"
   ]
  },
  {
   "cell_type": "code",
   "execution_count": 66,
   "metadata": {},
   "outputs": [
    {
     "data": {
      "text/plain": [
       "Organization_Type\n",
       "BSF    210\n",
       "BSO    602\n",
       "BSR    298\n",
       "EDU    288\n",
       "GOV    147\n",
       "MED    848\n",
       "NGO     38\n",
       "dtype: int64"
      ]
     },
     "execution_count": 66,
     "metadata": {},
     "output_type": "execute_result"
    }
   ],
   "source": [
    "## Count of Breach Type = hacking by Organization\n",
    "df_hack.groupby(['Organization_Type']).size()"
   ]
  },
  {
   "cell_type": "code",
   "execution_count": 67,
   "metadata": {},
   "outputs": [
    {
     "data": {
      "text/plain": [
       "Breach_Type  Organization_Type\n",
       "CARD         BSF                    24\n",
       "             BSO                     5\n",
       "             BSR                    37\n",
       "             EDU                     1\n",
       "             MED                     1\n",
       "DISC         BSF                   122\n",
       "             BSO                   116\n",
       "             BSR                    66\n",
       "             EDU                   238\n",
       "             GOV                   225\n",
       "             MED                   926\n",
       "             NGO                    15\n",
       "HACK         BSF                   210\n",
       "             BSO                   602\n",
       "             BSR                   298\n",
       "             EDU                   288\n",
       "             GOV                   147\n",
       "             MED                   848\n",
       "             NGO                    38\n",
       "INSD         BSF                   101\n",
       "             BSO                    63\n",
       "             BSR                    73\n",
       "             EDU                    26\n",
       "             GOV                    80\n",
       "             MED                   257\n",
       "             NGO                     9\n",
       "PHYS         BSF                    64\n",
       "             BSO                    61\n",
       "             BSR                    38\n",
       "             EDU                    61\n",
       "             GOV                   104\n",
       "             MED                  1352\n",
       "             NGO                    11\n",
       "PORT         BSF                   161\n",
       "             BSO                   137\n",
       "             BSR                    66\n",
       "             EDU                   138\n",
       "             GOV                   170\n",
       "             MED                   463\n",
       "             NGO                    37\n",
       "STAT         BSF                    27\n",
       "             BSO                    22\n",
       "             BSR                    16\n",
       "             EDU                    48\n",
       "             GOV                    24\n",
       "             MED                   107\n",
       "             NGO                     5\n",
       "UNKN         BSF                    37\n",
       "             BSO                    22\n",
       "             BSR                    21\n",
       "             EDU                    18\n",
       "             GOV                    25\n",
       "             MED                   123\n",
       "             NGO                     3\n",
       "dtype: int64"
      ]
     },
     "execution_count": 67,
     "metadata": {},
     "output_type": "execute_result"
    }
   ],
   "source": [
    "## Effect of Organization by Breach Type\n",
    "df.groupby(['Breach_Type', 'Organization_Type']).size()"
   ]
  },
  {
   "cell_type": "markdown",
   "metadata": {},
   "source": [
    "## What is the most popular data breach type for education?"
   ]
  },
  {
   "cell_type": "markdown",
   "metadata": {},
   "source": [
    "### Per below, the most popular breach type for education was hacking."
   ]
  },
  {
   "cell_type": "markdown",
   "metadata": {},
   "source": [
    "## What is the most popular data breach type for medical organizations?"
   ]
  },
  {
   "cell_type": "markdown",
   "metadata": {},
   "source": [
    "### When looking at breach types within organizations, medical organizations are impacted the most by physical record losses. "
   ]
  },
  {
   "cell_type": "code",
   "execution_count": 64,
   "metadata": {},
   "outputs": [
    {
     "data": {
      "text/plain": [
       "Organization_Type  Breach_Type\n",
       "BSF                CARD             24\n",
       "                   DISC            122\n",
       "                   HACK            210\n",
       "                   INSD            101\n",
       "                   PHYS             64\n",
       "                   PORT            161\n",
       "                   STAT             27\n",
       "                   UNKN             37\n",
       "BSO                CARD              5\n",
       "                   DISC            116\n",
       "                   HACK            602\n",
       "                   INSD             63\n",
       "                   PHYS             61\n",
       "                   PORT            137\n",
       "                   STAT             22\n",
       "                   UNKN             22\n",
       "BSR                CARD             37\n",
       "                   DISC             66\n",
       "                   HACK            298\n",
       "                   INSD             73\n",
       "                   PHYS             38\n",
       "                   PORT             66\n",
       "                   STAT             16\n",
       "                   UNKN             21\n",
       "EDU                CARD              1\n",
       "                   DISC            238\n",
       "                   HACK            288\n",
       "                   INSD             26\n",
       "                   PHYS             61\n",
       "                   PORT            138\n",
       "                   STAT             48\n",
       "                   UNKN             18\n",
       "GOV                DISC            225\n",
       "                   HACK            147\n",
       "                   INSD             80\n",
       "                   PHYS            104\n",
       "                   PORT            170\n",
       "                   STAT             24\n",
       "                   UNKN             25\n",
       "MED                CARD              1\n",
       "                   DISC            926\n",
       "                   HACK            848\n",
       "                   INSD            257\n",
       "                   PHYS           1352\n",
       "                   PORT            463\n",
       "                   STAT            107\n",
       "                   UNKN            123\n",
       "NGO                DISC             15\n",
       "                   HACK             38\n",
       "                   INSD              9\n",
       "                   PHYS             11\n",
       "                   PORT             37\n",
       "                   STAT              5\n",
       "                   UNKN              3\n",
       "dtype: int64"
      ]
     },
     "execution_count": 64,
     "metadata": {},
     "output_type": "execute_result"
    }
   ],
   "source": [
    "## Effect on Organizations by Breach Type\n",
    "df.groupby(['Organization_Type', 'Breach_Type']).size()"
   ]
  },
  {
   "cell_type": "markdown",
   "metadata": {},
   "source": [
    "## Which state is more vulnerable to “Hackers”?"
   ]
  },
  {
   "cell_type": "markdown",
   "metadata": {},
   "source": [
    "### California is the most vulnerable to hackers."
   ]
  },
  {
   "cell_type": "code",
   "execution_count": 51,
   "metadata": {},
   "outputs": [
    {
     "data": {
      "text/plain": [
       "State\n",
       "Alabama                  18\n",
       "Alaska                    8\n",
       "Arizona                  36\n",
       "Arkansas                 14\n",
       "California              461\n",
       "Colorado                 44\n",
       "Connecticut              42\n",
       "Delaware                 12\n",
       "District Of Columbia     57\n",
       "Florida                  96\n",
       "Georgia                  72\n",
       "Hawaii                    7\n",
       "Idaho                     9\n",
       "Illinois                 91\n",
       "Indiana                  59\n",
       "Iowa                     26\n",
       "Kansas                   11\n",
       "Kentucky                 22\n",
       "Louisiana                11\n",
       "Maine                    15\n",
       "Maryland                156\n",
       "Massachusetts            76\n",
       "Michigan                 47\n",
       "Minnesota                35\n",
       "Mississippi               8\n",
       "Missouri                 45\n",
       "Montana                  11\n",
       "Nebraska                 14\n",
       "Nevada                   22\n",
       "New Hampshire            21\n",
       "New Jersey               56\n",
       "New Mexico                9\n",
       "New York                161\n",
       "North Carolina           41\n",
       "North Dakota              3\n",
       "Ohio                     59\n",
       "Oklahoma                 19\n",
       "Oregon                   29\n",
       "Pennsylvania             74\n",
       "Puerto Rico               2\n",
       "Rhode Island              6\n",
       "South Carolina           12\n",
       "South Dakota              5\n",
       "Tennessee                28\n",
       "Texas                   153\n",
       "United States            24\n",
       "Utah                     19\n",
       "Vermont                  14\n",
       "Virginia                 70\n",
       "Washington               62\n",
       "West Virginia             4\n",
       "Wisconsin                31\n",
       "Wyoming                   4\n",
       "dtype: int64"
      ]
     },
     "execution_count": 51,
     "metadata": {},
     "output_type": "execute_result"
    }
   ],
   "source": [
    "## Count of Breach Type = hacking by State\n",
    "df_hack.groupby(['State']).size()"
   ]
  },
  {
   "cell_type": "markdown",
   "metadata": {},
   "source": [
    "## Which state is more vulnerable to “CARD”?"
   ]
  },
  {
   "cell_type": "markdown",
   "metadata": {},
   "source": [
    "### California and New York are the most vulnerable to Credit Card breaches"
   ]
  },
  {
   "cell_type": "code",
   "execution_count": 52,
   "metadata": {},
   "outputs": [],
   "source": [
    "df_card = df[df.Breach_Type == 'CARD']"
   ]
  },
  {
   "cell_type": "code",
   "execution_count": 53,
   "metadata": {},
   "outputs": [
    {
     "data": {
      "text/plain": [
       "State\n",
       "Arizona            3\n",
       "Arkansas           1\n",
       "California        13\n",
       "Florida            6\n",
       "Georgia            2\n",
       "Illinois           3\n",
       "Maine              1\n",
       "Massachusetts      2\n",
       "Michigan           2\n",
       "Minnesota          3\n",
       "Missouri           1\n",
       "Nevada             1\n",
       "New Jersey         1\n",
       "New York          10\n",
       "North Carolina     2\n",
       "Ohio               3\n",
       "Oklahoma           1\n",
       "Pennsylvania       2\n",
       "Tennessee          1\n",
       "Texas              3\n",
       "United States      1\n",
       "Utah               2\n",
       "Virginia           1\n",
       "Washington         2\n",
       "Wisconsin          1\n",
       "dtype: int64"
      ]
     },
     "execution_count": 53,
     "metadata": {},
     "output_type": "execute_result"
    }
   ],
   "source": [
    "## Count of Breach Type = credit card by State\n",
    "df_card.groupby(['State']).size()"
   ]
  },
  {
   "cell_type": "code",
   "execution_count": 68,
   "metadata": {},
   "outputs": [],
   "source": [
    "#df.groupby(['State', 'Breach_Type', 'Organization_Type']).size()"
   ]
  },
  {
   "cell_type": "markdown",
   "metadata": {},
   "source": [
    "### Organizations, data breaches & time"
   ]
  },
  {
   "cell_type": "markdown",
   "metadata": {},
   "source": [
    "**Visualization of data breaches over time (time series analysis).**"
   ]
  },
  {
   "cell_type": "code",
   "execution_count": 70,
   "metadata": {},
   "outputs": [],
   "source": [
    "# Convert year to string to get meaningful statistics\n",
    "df['Breach_Year'] = df['Breach_Year'].astype(str)"
   ]
  },
  {
   "cell_type": "markdown",
   "metadata": {},
   "source": [
    "**Remove data breach incidents occurring in 2018** "
   ]
  },
  {
   "cell_type": "code",
   "execution_count": 71,
   "metadata": {},
   "outputs": [],
   "source": [
    "df_time = df[df.Breach_Year != '2018']"
   ]
  },
  {
   "cell_type": "markdown",
   "metadata": {},
   "source": [
    "### How many breaches per year?"
   ]
  },
  {
   "cell_type": "code",
   "execution_count": 80,
   "metadata": {},
   "outputs": [],
   "source": [
    "# get a count of breaches per year by breach type                  \n",
    "breach_count = df_time.groupby('Breach_Year').Breach_Type.count()"
   ]
  },
  {
   "cell_type": "code",
   "execution_count": 81,
   "metadata": {},
   "outputs": [
    {
     "data": {
      "text/plain": [
       "Text(0.5,1,'Breaches by Year')"
      ]
     },
     "execution_count": 81,
     "metadata": {},
     "output_type": "execute_result"
    },
    {
     "data": {
      "image/png": "[encoded data removed]",
      "text/plain": [
       "<Figure size 1080x1080 with 1 Axes>"
      ]
     },
     "metadata": {},
     "output_type": "display_data"
    }
   ],
   "source": [
    "# breaches bar graph\n",
    "bins = 13\n",
    "#plt.figure\n",
    "plt.figure(bins, figsize=(15,15))\n",
    "breach_count.plot(kind='bar')\n",
    "plt.xlabel('Year')\n",
    "plt.ylabel('Count by Year')\n",
    "plt.title(\"Breaches by Year\")"
   ]
  },
  {
   "cell_type": "code",
   "execution_count": 83,
   "metadata": {},
   "outputs": [
    {
     "data": {
      "text/plain": [
       "Breach_Year\n",
       "2005    136\n",
       "2006    482\n",
       "2007    454\n",
       "2008    355\n",
       "2009    271\n",
       "2010    801\n",
       "2011    788\n",
       "2012    882\n",
       "2013    852\n",
       "2014    887\n",
       "2015    539\n",
       "2016    804\n",
       "2017    602\n",
       "dtype: int64"
      ]
     },
     "execution_count": 83,
     "metadata": {},
     "output_type": "execute_result"
    }
   ],
   "source": [
    "# legend for the above graph\n",
    "df_time.groupby(['Breach_Year']).size()"
   ]
  },
  {
   "cell_type": "code",
   "execution_count": 85,
   "metadata": {},
   "outputs": [
    {
     "data": {
      "text/plain": [
       "[<matplotlib.lines.Line2D at 0x180d8e10>]"
      ]
     },
     "execution_count": 85,
     "metadata": {},
     "output_type": "execute_result"
    },
    {
     "data": {
      "image/png": "[encoded data removed]",
      "text/plain": [
       "<Figure size 1440x720 with 1 Axes>"
      ]
     },
     "metadata": {},
     "output_type": "display_data"
    }
   ],
   "source": [
    "# Line graph to show trend\n",
    "plt.figure(figsize=(20,10))\n",
    "plt.plot(breach_count)"
   ]
  },
  {
   "cell_type": "markdown",
   "metadata": {},
   "source": [
    " ### Is there any trend in data breaches over time (between 2005 and 2017)?"
   ]
  },
  {
   "cell_type": "markdown",
   "metadata": {},
   "source": [
    "**It appears that the trend is showing an increase over time.**"
   ]
  },
  {
   "cell_type": "markdown",
   "metadata": {},
   "source": [
    "###  Any relationship between time and data breach type? "
   ]
  },
  {
   "cell_type": "markdown",
   "metadata": {},
   "source": [
    "**There are different types of breaches and associated organizations that are more or less popular depending on the year.**"
   ]
  },
  {
   "cell_type": "code",
   "execution_count": 120,
   "metadata": {},
   "outputs": [
    {
     "data": {
      "text/plain": [
       "Breach_Year  Breach_Type  Organization_Type\n",
       "2005         DISC         BSF                    2\n",
       "                          BSO                    1\n",
       "                          BSR                    3\n",
       "                          EDU                   11\n",
       "                          GOV                    1\n",
       "                          MED                    2\n",
       "             HACK         BSF                    2\n",
       "                          BSO                    1\n",
       "                          BSR                    2\n",
       "                          EDU                   40\n",
       "                          GOV                    2\n",
       "                          NGO                    1\n",
       "             INSD         BSF                    3\n",
       "                          BSO                    3\n",
       "                          EDU                    1\n",
       "                          GOV                    1\n",
       "                          MED                    2\n",
       "             PHYS         BSF                    1\n",
       "                          BSR                    2\n",
       "                          EDU                    2\n",
       "                          GOV                    3\n",
       "             PORT         BSF                   13\n",
       "                          BSO                    4\n",
       "                          BSR                    2\n",
       "                          EDU                    7\n",
       "                          GOV                    6\n",
       "                          MED                    5\n",
       "                          NGO                    1\n",
       "             STAT         BSF                    1\n",
       "                          BSO                    3\n",
       "                                              ... \n",
       "2016         STAT         BSO                    1\n",
       "             UNKN         EDU                    1\n",
       "                          GOV                    1\n",
       "2017         DISC         BSF                    4\n",
       "                          BSO                   20\n",
       "                          BSR                    1\n",
       "                          EDU                    8\n",
       "                          GOV                   10\n",
       "                          MED                  114\n",
       "                          NGO                    3\n",
       "             HACK         BSF                   34\n",
       "                          BSO                  126\n",
       "                          BSR                    8\n",
       "                          EDU                    4\n",
       "                          GOV                    7\n",
       "                          MED                  169\n",
       "                          NGO                    3\n",
       "             INSD         BSF                    1\n",
       "                          GOV                    1\n",
       "                          MED                    6\n",
       "             PHYS         BSF                    2\n",
       "                          BSO                    2\n",
       "                          EDU                    3\n",
       "                          MED                   65\n",
       "             PORT         BSF                    2\n",
       "                          BSO                    1\n",
       "                          EDU                    1\n",
       "                          MED                    5\n",
       "             UNKN         BSO                    1\n",
       "                          EDU                    1\n",
       "Length: 538, dtype: int64"
      ]
     },
     "execution_count": 120,
     "metadata": {},
     "output_type": "execute_result"
    }
   ],
   "source": [
    "## Effect on Organizations by Breach Type\n",
    "df_time.groupby(['Breach_Year', 'Breach_Type', 'Organization_Type']).size()"
   ]
  },
  {
   "cell_type": "markdown",
   "metadata": {},
   "source": [
    "    - Any data breach type in increase over time?"
   ]
  },
  {
   "cell_type": "markdown",
   "metadata": {},
   "source": [
    " - Any data breach type declining over time?"
   ]
  },
  {
   "cell_type": "code",
   "execution_count": null,
   "metadata": {},
   "outputs": [],
   "source": []
  },
  {
   "cell_type": "markdown",
   "metadata": {},
   "source": [
    "### Multiple data breaches (repeating incidents) - Organizations that have experienced repeated incidents"
   ]
  },
  {
   "cell_type": "markdown",
   "metadata": {},
   "source": [
    "- How many organizations (“company”) have multiple data breaches (more than one data breach between 2005 and 2017)?"
   ]
  },
  {
   "cell_type": "markdown",
   "metadata": {},
   "source": [
    "- What organization types are more likely to experience multiple data breaches (more than one data breach between 2005 and         2017) than other organization types?"
   ]
  },
  {
   "cell_type": "markdown",
   "metadata": {},
   "source": [
    "## Part II: Statistical analysis"
   ]
  },
  {
   "cell_type": "markdown",
   "metadata": {},
   "source": [
    "1. First hypothesis - “two data breach types—DISC and HACK—are equal in the harm caused to organizations in terms of records affected (“TotalRecords”)”. You need to test this hypothesis. Interpret the results and provide implications."
   ]
  },
  {
   "cell_type": "markdown",
   "metadata": {},
   "source": [
    "2. Second hypothesis - “all data breach types are equal in the harm caused to organizations in terms of records affected (“Total_Recs”)”. You need to test this hypothesis. Interpret the results and provide implications."
   ]
  },
  {
   "cell_type": "markdown",
   "metadata": {},
   "source": [
    "- Which type of data breach tends to cause the most harm (the number of records affected) to organizations?"
   ]
  },
  {
   "cell_type": "code",
   "execution_count": null,
   "metadata": {},
   "outputs": [],
   "source": []
  }
 ],
 "metadata": {
  "kernelspec": {
   "display_name": "Python [default]",
   "language": "python",
   "name": "python2"
  },
  "language_info": {
   "codemirror_mode": {
    "name": "ipython",
    "version": 2
   },
   "file_extension": ".py",
   "mimetype": "text/x-python",
   "name": "python",
   "nbconvert_exporter": "python",
   "pygments_lexer": "ipython2",
   "version": "2.7.14"
  }
 },
 "nbformat": 4,
 "nbformat_minor": 1
}
