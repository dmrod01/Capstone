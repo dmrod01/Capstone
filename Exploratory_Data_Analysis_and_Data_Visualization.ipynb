{
 "cells": [
  {
   "cell_type": "markdown",
   "metadata": {
    "collapsed": true
   },
   "source": [
    "## Data Breach Analytics 2005 - 2017 (Part 2)\n",
    "\n",
    "**By Miriam Rodriguez**\n"
   ]
  },
  {
   "cell_type": "markdown",
   "metadata": {},
   "source": [
    "**Exploratory Data Analysis(EDA) and Data Visualization**\n",
    "- Correlation \n",
    "- Basic Statistical Analysis \n",
    "- Hypothesis Testing\n",
    "- Data visualization\n",
    "- Insights from EDA and data visualization\n"
   ]
  },
  {
   "cell_type": "markdown",
   "metadata": {},
   "source": [
    "### Data Description\n",
    "\n",
    "#### Dataset\n",
    "- Dataset name:              databreach_cleaned.csv\n",
    "- Duration of the data:      2005 through 2017\n",
    "\n",
    "#### Data Breach Types\n",
    "- 1: CARD - Payment Card Fraud:    Fraud involving debit and credit cards that is not accomplished via hacking (e.g.                                                skimming devices at point-of-service terminals).\n",
    "- 2: HACK - Hacking or Malware:    Hacked by outside party or infected by malware\n",
    "- 3: INSD - Insider:               Someone with legitimate access intentionally breaches information, such as an employee,                                          contractor, or customer)\n",
    "- 4: PHYS - Physical Loss:         Includes paper documents that are lost, discarded, or stolen (non-electronic)\n",
    "- 5: PORT - Portable Device:       Lost, discarded, or stolen laptop, PDA, smartphone, memory stick, CDs, hard drive, data                                          tape, etc.\n",
    "- 6: STAT - Stationary Device:     Stationary computer loss (lost, inappropriately accessed, discarded, or stolen computer                                          or server not designed for mobility)\n",
    "- 7: DISC - Unintended Disclosure: Unintended disclosure (not involving hacking, intentional breach, or physical loss i.e.                                          sensitive information posted publicly, mishandled, sent to the wrong party via publishing                                      online, sending in an email, sending in a mailing or sending via fax.\n",
    "- 0: Unknown\n",
    "\n",
    "#### Institution/Organization) Type\n",
    "Numeric Alpha  Description\n",
    "- 1     BSF - Businesses - Financial and Insurance Services\n",
    "- 2\t    BSO - Businesses - Other\n",
    "- 3  \tBSR - Businesses - Retail/Merchant – Including Online Retail\n",
    "- 4 \tEDU - Educational Institutions\n",
    "- 5 \tGOV - Government & Military\n",
    "- 6 \tMED - Healthcare - Medical Providers & Medical Insurance Services\n",
    "- 7 \tNGO - Nonprofit Organizations\n",
    "\n",
    "#### Data elements/column names\n",
    "1.\tBreach_Year: Year Breach information released to public \n",
    "2.\tCompany: Company breached (text)\n",
    "3.\tState: State of breached company (text)\n",
    "5.\tBreach_Type: Refer to four-character Breach Type above\n",
    "6.\tOrganization_Type: Refer to three-character Institution/Organization Type above\n",
    "7.\tTotal_Records: Number of records breached (integer)\n",
    "8.\tDescriptiont: Text describing breach (text)\n",
    "5.\tBreach_Type_CAT: Numerical assignment to four-character Breach Type above\n",
    "6.\tOrganization_Type_CAT: Numerical assignment to three-character Institution/Organization Type above\n",
    "12.\tLatitude: Location Latitude (signed numeric long)\n",
    "13.\tLongitude: Location Longitude (signed numeric long)\n"
   ]
  },
  {
   "cell_type": "raw",
   "metadata": {},
   "source": [
    "# Importing packages "
   ]
  },
  {
   "cell_type": "code",
   "execution_count": 160,
   "metadata": {},
   "outputs": [],
   "source": [
    "# the popular python package for data visualization\n",
    "import matplotlib.pyplot as plt\n",
    "%matplotlib inline\n",
    "\n",
    "# import some other packages\n",
    "import numpy as np\n",
    "import pandas as pd\n",
    "import seaborn as sns  #package for statistical data visualization\n",
    "from scipy import stats\n",
    "from pandas.tools import plotting"
   ]
  },
  {
   "cell_type": "markdown",
   "metadata": {},
   "source": [
    "# Importing Data & Processing (ETL)"
   ]
  },
  {
   "cell_type": "code",
   "execution_count": 107,
   "metadata": {},
   "outputs": [
    {
     "data": {
      "text/html": [
       "<div>\n",
       "<style scoped>\n",
       "    .dataframe tbody tr th:only-of-type {\n",
       "        vertical-align: middle;\n",
       "    }\n",
       "\n",
       "    .dataframe tbody tr th {\n",
       "        vertical-align: top;\n",
       "    }\n",
       "\n",
       "    .dataframe thead th {\n",
       "        text-align: right;\n",
       "    }\n",
       "</style>\n",
       "<table border=\"1\" class=\"dataframe\">\n",
       "  <thead>\n",
       "    <tr style=\"text-align: right;\">\n",
       "      <th></th>\n",
       "      <th>Breach_Year</th>\n",
       "      <th>Company</th>\n",
       "      <th>State</th>\n",
       "      <th>Breach_Type</th>\n",
       "      <th>Organization_Type</th>\n",
       "      <th>Total_Recs</th>\n",
       "      <th>Description</th>\n",
       "      <th>Latitude</th>\n",
       "      <th>Longitude</th>\n",
       "      <th>Breach_Type_CAT</th>\n",
       "      <th>Organization_Type_CAT</th>\n",
       "    </tr>\n",
       "  </thead>\n",
       "  <tbody>\n",
       "    <tr>\n",
       "      <th>0</th>\n",
       "      <td>2008</td>\n",
       "      <td>Greil Memorial Psychiatric Hospital</td>\n",
       "      <td>Alabama</td>\n",
       "      <td>PHYS</td>\n",
       "      <td>EDU</td>\n",
       "      <td>0</td>\n",
       "      <td>Index cards containing patients \\r\\n          ...</td>\n",
       "      <td>32.366805</td>\n",
       "      <td>-86.299969</td>\n",
       "      <td>4</td>\n",
       "      <td>4</td>\n",
       "    </tr>\n",
       "    <tr>\n",
       "      <th>1</th>\n",
       "      <td>2008</td>\n",
       "      <td>Compass Bank</td>\n",
       "      <td>Alabama</td>\n",
       "      <td>INSD</td>\n",
       "      <td>BSF</td>\n",
       "      <td>1000000</td>\n",
       "      <td>A database containing names, account \\r\\n     ...</td>\n",
       "      <td>33.520661</td>\n",
       "      <td>-86.802490</td>\n",
       "      <td>3</td>\n",
       "      <td>1</td>\n",
       "    </tr>\n",
       "    <tr>\n",
       "      <th>2</th>\n",
       "      <td>2007</td>\n",
       "      <td>Electronic Data Systems</td>\n",
       "      <td>Alabama</td>\n",
       "      <td>INSD</td>\n",
       "      <td>BSO</td>\n",
       "      <td>498</td>\n",
       "      <td>A former employee \\r\\n            was arrested...</td>\n",
       "      <td>32.366805</td>\n",
       "      <td>-86.299969</td>\n",
       "      <td>3</td>\n",
       "      <td>2</td>\n",
       "    </tr>\n",
       "    <tr>\n",
       "      <th>3</th>\n",
       "      <td>2007</td>\n",
       "      <td>Gadsden State Community College</td>\n",
       "      <td>Alabama</td>\n",
       "      <td>PHYS</td>\n",
       "      <td>EDU</td>\n",
       "      <td>400</td>\n",
       "      <td>Students who took \\r\\n            an Art Appre...</td>\n",
       "      <td>34.025272</td>\n",
       "      <td>-85.995891</td>\n",
       "      <td>4</td>\n",
       "      <td>4</td>\n",
       "    </tr>\n",
       "    <tr>\n",
       "      <th>4</th>\n",
       "      <td>2007</td>\n",
       "      <td>DCH Health Systems</td>\n",
       "      <td>Alabama</td>\n",
       "      <td>PORT</td>\n",
       "      <td>MED</td>\n",
       "      <td>6000</td>\n",
       "      <td>An encrypted disc \\r\\n            and hardcopy...</td>\n",
       "      <td>33.209841</td>\n",
       "      <td>-87.569174</td>\n",
       "      <td>5</td>\n",
       "      <td>6</td>\n",
       "    </tr>\n",
       "  </tbody>\n",
       "</table>\n",
       "</div>"
      ],
      "text/plain": [
       "   Breach_Year                              Company    State Breach_Type  \\\n",
       "0         2008  Greil Memorial Psychiatric Hospital  Alabama        PHYS   \n",
       "1         2008                         Compass Bank  Alabama        INSD   \n",
       "2         2007              Electronic Data Systems  Alabama        INSD   \n",
       "3         2007      Gadsden State Community College  Alabama        PHYS   \n",
       "4         2007                   DCH Health Systems  Alabama        PORT   \n",
       "\n",
       "  Organization_Type  Total_Recs  \\\n",
       "0               EDU           0   \n",
       "1               BSF     1000000   \n",
       "2               BSO         498   \n",
       "3               EDU         400   \n",
       "4               MED        6000   \n",
       "\n",
       "                                         Description   Latitude  Longitude  \\\n",
       "0  Index cards containing patients \\r\\n          ...  32.366805 -86.299969   \n",
       "1  A database containing names, account \\r\\n     ...  33.520661 -86.802490   \n",
       "2  A former employee \\r\\n            was arrested...  32.366805 -86.299969   \n",
       "3  Students who took \\r\\n            an Art Appre...  34.025272 -85.995891   \n",
       "4  An encrypted disc \\r\\n            and hardcopy...  33.209841 -87.569174   \n",
       "\n",
       "   Breach_Type_CAT  Organization_Type_CAT  \n",
       "0                4                      4  \n",
       "1                3                      1  \n",
       "2                3                      2  \n",
       "3                4                      4  \n",
       "4                5                      6  "
      ]
     },
     "execution_count": 107,
     "metadata": {},
     "output_type": "execute_result"
    }
   ],
   "source": [
    "#import breach data ... open or read the breach data\n",
    "df = pd.read_csv(\"databreach_cleaned.csv\")\n",
    "df.head()"
   ]
  },
  {
   "cell_type": "code",
   "execution_count": 3,
   "metadata": {},
   "outputs": [
    {
     "name": "stdout",
     "output_type": "stream",
     "text": [
      "<class 'pandas.core.frame.DataFrame'>\n",
      "RangeIndex: 8177 entries, 0 to 8176\n",
      "Data columns (total 11 columns):\n",
      "Breach_Year              8177 non-null int64\n",
      "Company                  8177 non-null object\n",
      "State                    8177 non-null object\n",
      "Breach_Type              8177 non-null object\n",
      "Organization_Type        8177 non-null object\n",
      "Total_Recs               8177 non-null int64\n",
      "Description              8177 non-null object\n",
      "Latitude                 8177 non-null float64\n",
      "Longitude                8177 non-null float64\n",
      "Breach_Type_CAT          8177 non-null int64\n",
      "Organization_Type_CAT    8177 non-null int64\n",
      "dtypes: float64(2), int64(4), object(5)\n",
      "memory usage: 702.8+ KB\n"
     ]
    }
   ],
   "source": [
    "# Describe data\n",
    "df.info()"
   ]
  },
  {
   "cell_type": "markdown",
   "metadata": {},
   "source": [
    "**There are 8177 records total.**  "
   ]
  },
  {
   "cell_type": "markdown",
   "metadata": {},
   "source": [
    "# Basic Statistics and Visualization"
   ]
  },
  {
   "cell_type": "code",
   "execution_count": 4,
   "metadata": {},
   "outputs": [
    {
     "data": {
      "text/plain": [
       "count    8177.000000\n",
       "mean     2012.204965\n",
       "std         3.425944\n",
       "min      2005.000000\n",
       "25%      2010.000000\n",
       "50%      2012.000000\n",
       "75%      2015.000000\n",
       "max      2018.000000\n",
       "Name: Breach_Year, dtype: float64"
      ]
     },
     "execution_count": 4,
     "metadata": {},
     "output_type": "execute_result"
    }
   ],
   "source": [
    "#describe the column Date_Public only (e.g., count, unique, frequency)\n",
    "df['Breach_Year'].describe()"
   ]
  },
  {
   "cell_type": "code",
   "execution_count": 5,
   "metadata": {},
   "outputs": [
    {
     "data": {
      "text/plain": [
       "Breach_Year\n",
       "2005    136\n",
       "2006    482\n",
       "2007    454\n",
       "2008    355\n",
       "2009    271\n",
       "2010    801\n",
       "2011    788\n",
       "2012    882\n",
       "2013    852\n",
       "2014    887\n",
       "2015    539\n",
       "2016    804\n",
       "2017    602\n",
       "2018    324\n",
       "dtype: int64"
      ]
     },
     "execution_count": 5,
     "metadata": {},
     "output_type": "execute_result"
    }
   ],
   "source": [
    "df.groupby(['Breach_Year']).size()"
   ]
  },
  {
   "cell_type": "markdown",
   "metadata": {},
   "source": [
    "### Breach_Type and Organization_Type are categories"
   ]
  },
  {
   "cell_type": "markdown",
   "metadata": {},
   "source": [
    "### Organization Type Statistics"
   ]
  },
  {
   "cell_type": "markdown",
   "metadata": {},
   "source": [
    "### 'MED' is top organization type"
   ]
  },
  {
   "cell_type": "code",
   "execution_count": 6,
   "metadata": {},
   "outputs": [
    {
     "data": {
      "text/plain": [
       "Organization_Type\n",
       "BSF     746\n",
       "BSO    1028\n",
       "BSR     615\n",
       "EDU     818\n",
       "GOV     775\n",
       "MED    4077\n",
       "NGO     118\n",
       "dtype: int64"
      ]
     },
     "execution_count": 6,
     "metadata": {},
     "output_type": "execute_result"
    }
   ],
   "source": [
    "# Counts of affected organization types\n",
    "df.groupby(['Organization_Type']).size()"
   ]
  },
  {
   "cell_type": "code",
   "execution_count": 7,
   "metadata": {},
   "outputs": [
    {
     "data": {
      "text/plain": [
       "count     8177\n",
       "unique       7\n",
       "top        MED\n",
       "freq      4077\n",
       "Name: Organization_Type, dtype: object"
      ]
     },
     "execution_count": 7,
     "metadata": {},
     "output_type": "execute_result"
    }
   ],
   "source": [
    "#describe the column Type of Organization only (e.g., count, unique, frequency)\n",
    "df['Organization_Type'].describe()"
   ]
  },
  {
   "cell_type": "code",
   "execution_count": 14,
   "metadata": {},
   "outputs": [
    {
     "data": {
      "text/plain": [
       "Organization_Type_CAT\n",
       "1     746\n",
       "2    1028\n",
       "3     615\n",
       "4     818\n",
       "5     775\n",
       "6    4077\n",
       "7     118\n",
       "dtype: int64"
      ]
     },
     "execution_count": 14,
     "metadata": {},
     "output_type": "execute_result"
    }
   ],
   "source": [
    "# Counts of affected organization types\n",
    "df.groupby(['Organization_Type_CAT']).size()"
   ]
  },
  {
   "cell_type": "code",
   "execution_count": 9,
   "metadata": {},
   "outputs": [
    {
     "data": {
      "text/plain": [
       "(array([  746.,  1028.,     0.,   615.,     0.,   818.,   775.,     0.,\n",
       "         4077.,   118.]),\n",
       " array([ 1. ,  1.6,  2.2,  2.8,  3.4,  4. ,  4.6,  5.2,  5.8,  6.4,  7. ]),\n",
       " <a list of 10 Patch objects>)"
      ]
     },
     "execution_count": 9,
     "metadata": {},
     "output_type": "execute_result"
    },
    {
     "data": {
      "image/png": "[encoded data removed]",
      "text/plain": [
       "<Figure size 432x288 with 1 Axes>"
      ]
     },
     "metadata": {},
     "output_type": "display_data"
    }
   ],
   "source": [
    "# using matplotlib\n",
    "# histogram of Organization Type\n",
    "\n",
    "plt.hist(df['Organization_Type_CAT'])"
   ]
  },
  {
   "cell_type": "code",
   "execution_count": 29,
   "metadata": {},
   "outputs": [
    {
     "data": {
      "text/plain": [
       "<matplotlib.legend.Legend at 0xe434da0>"
      ]
     },
     "execution_count": 29,
     "metadata": {},
     "output_type": "execute_result"
    },
    {
     "data": {
      "image/png": "[encoded data removed]",
      "text/plain": [
       "<Figure size 432x288 with 1 Axes>"
      ]
     },
     "metadata": {},
     "output_type": "display_data"
    }
   ],
   "source": [
    "# using matplotlib\n",
    "# Histogram of Breach occurrences by Organization Type - Visualization\n",
    "bins = 7\n",
    "plt.hist(df['Organization_Type_CAT'], bins, color='navy', label=\"Breach Occurrences\")\n",
    "plt.xlabel('Organizaton Type')\n",
    "plt.title('Breach Occurrences by Organization Type')\n",
    "plt.legend()"
   ]
  },
  {
   "cell_type": "markdown",
   "metadata": {},
   "source": [
    "### Breach Type Statistics"
   ]
  },
  {
   "cell_type": "markdown",
   "metadata": {},
   "source": [
    "### 'HACK' is the top breach type."
   ]
  },
  {
   "cell_type": "code",
   "execution_count": 10,
   "metadata": {},
   "outputs": [
    {
     "data": {
      "text/plain": [
       "Breach_Type\n",
       "CARD      68\n",
       "DISC    1708\n",
       "HACK    2431\n",
       "INSD     609\n",
       "PHYS    1691\n",
       "PORT    1172\n",
       "STAT     249\n",
       "UNKN     249\n",
       "dtype: int64"
      ]
     },
     "execution_count": 10,
     "metadata": {},
     "output_type": "execute_result"
    }
   ],
   "source": [
    "# Counts of breach types\n",
    "df.groupby(['Breach_Type']).size()"
   ]
  },
  {
   "cell_type": "code",
   "execution_count": 11,
   "metadata": {},
   "outputs": [
    {
     "data": {
      "text/plain": [
       "count     8177\n",
       "unique       8\n",
       "top       HACK\n",
       "freq      2431\n",
       "Name: Breach_Type, dtype: object"
      ]
     },
     "execution_count": 11,
     "metadata": {},
     "output_type": "execute_result"
    }
   ],
   "source": [
    "#describe the column Type of Breach only (e.g., count, unique, frequency)\n",
    "df['Breach_Type'].describe()\n"
   ]
  },
  {
   "cell_type": "code",
   "execution_count": 13,
   "metadata": {},
   "outputs": [
    {
     "data": {
      "text/plain": [
       "Breach_Type_CAT\n",
       "0     249\n",
       "1      68\n",
       "2    2431\n",
       "3     609\n",
       "4    1691\n",
       "5    1172\n",
       "6     249\n",
       "7    1708\n",
       "dtype: int64"
      ]
     },
     "execution_count": 13,
     "metadata": {},
     "output_type": "execute_result"
    }
   ],
   "source": [
    "# Counts of breach types\n",
    "df.groupby(['Breach_Type_CAT']).size()"
   ]
  },
  {
   "cell_type": "code",
   "execution_count": 30,
   "metadata": {},
   "outputs": [
    {
     "data": {
      "text/plain": [
       "(array([  249.,    68.,  2431.,     0.,   609.,  1691.,     0.,  1172.,\n",
       "          249.,  1708.]),\n",
       " array([ 0. ,  0.7,  1.4,  2.1,  2.8,  3.5,  4.2,  4.9,  5.6,  6.3,  7. ]),\n",
       " <a list of 10 Patch objects>)"
      ]
     },
     "execution_count": 30,
     "metadata": {},
     "output_type": "execute_result"
    },
    {
     "data": {
      "image/png": "[encoded data removed]",
      "text/plain": [
       "<Figure size 432x288 with 1 Axes>"
      ]
     },
     "metadata": {},
     "output_type": "display_data"
    }
   ],
   "source": [
    "# using matplotlib\n",
    "# histogram of Breach Type\n",
    "\n",
    "plt.hist(df['Breach_Type_CAT'])"
   ]
  },
  {
   "cell_type": "code",
   "execution_count": 28,
   "metadata": {},
   "outputs": [
    {
     "data": {
      "text/plain": [
       "<matplotlib.legend.Legend at 0xddf64e0>"
      ]
     },
     "execution_count": 28,
     "metadata": {},
     "output_type": "execute_result"
    },
    {
     "data": {
      "image/png": "[encoded data removed]",
      "text/plain": [
       "<Figure size 432x288 with 1 Axes>"
      ]
     },
     "metadata": {},
     "output_type": "display_data"
    }
   ],
   "source": [
    "# using matplotlib\n",
    "# Histogram of Breach occurrences by Breach Type - Visualization\n",
    "bins = 7\n",
    "plt.hist(df['Breach_Type_CAT'], bins, color='purple', label=\"Breach Occurrences\")\n",
    "plt.xlabel('Breach Type')\n",
    "plt.title('Breach Occurrences by Breach Type')\n",
    "plt.legend()"
   ]
  },
  {
   "cell_type": "raw",
   "metadata": {},
   "source": [
    "#df['Company'] = df['Company'].replace({',': ''}, regex=True)\n",
    "#df['Company']"
   ]
  },
  {
   "cell_type": "code",
   "execution_count": 165,
   "metadata": {},
   "outputs": [
    {
     "data": {
      "text/html": [
       "<div>\n",
       "<style scoped>\n",
       "    .dataframe tbody tr th:only-of-type {\n",
       "        vertical-align: middle;\n",
       "    }\n",
       "\n",
       "    .dataframe tbody tr th {\n",
       "        vertical-align: top;\n",
       "    }\n",
       "\n",
       "    .dataframe thead th {\n",
       "        text-align: right;\n",
       "    }\n",
       "</style>\n",
       "<table border=\"1\" class=\"dataframe\">\n",
       "  <thead>\n",
       "    <tr style=\"text-align: right;\">\n",
       "      <th></th>\n",
       "      <th>Breach_Year</th>\n",
       "      <th>Company</th>\n",
       "      <th>State</th>\n",
       "      <th>Breach_Type</th>\n",
       "      <th>Organization_Type</th>\n",
       "      <th>Total_Recs</th>\n",
       "      <th>Description</th>\n",
       "    </tr>\n",
       "  </thead>\n",
       "  <tbody>\n",
       "    <tr>\n",
       "      <th>0</th>\n",
       "      <td>2008</td>\n",
       "      <td>Greil Memorial Psychiatric Hospital</td>\n",
       "      <td>Alabama</td>\n",
       "      <td>PHYS</td>\n",
       "      <td>EDU</td>\n",
       "      <td>0</td>\n",
       "      <td>Index cards containing patients \\r\\n          ...</td>\n",
       "    </tr>\n",
       "    <tr>\n",
       "      <th>1</th>\n",
       "      <td>2008</td>\n",
       "      <td>Compass Bank</td>\n",
       "      <td>Alabama</td>\n",
       "      <td>INSD</td>\n",
       "      <td>BSF</td>\n",
       "      <td>1000000</td>\n",
       "      <td>A database containing names, account \\r\\n     ...</td>\n",
       "    </tr>\n",
       "    <tr>\n",
       "      <th>2</th>\n",
       "      <td>2007</td>\n",
       "      <td>Electronic Data Systems</td>\n",
       "      <td>Alabama</td>\n",
       "      <td>INSD</td>\n",
       "      <td>BSO</td>\n",
       "      <td>498</td>\n",
       "      <td>A former employee \\r\\n            was arrested...</td>\n",
       "    </tr>\n",
       "    <tr>\n",
       "      <th>3</th>\n",
       "      <td>2007</td>\n",
       "      <td>Gadsden State Community College</td>\n",
       "      <td>Alabama</td>\n",
       "      <td>PHYS</td>\n",
       "      <td>EDU</td>\n",
       "      <td>400</td>\n",
       "      <td>Students who took \\r\\n            an Art Appre...</td>\n",
       "    </tr>\n",
       "    <tr>\n",
       "      <th>4</th>\n",
       "      <td>2007</td>\n",
       "      <td>DCH Health Systems</td>\n",
       "      <td>Alabama</td>\n",
       "      <td>PORT</td>\n",
       "      <td>MED</td>\n",
       "      <td>6000</td>\n",
       "      <td>An encrypted disc \\r\\n            and hardcopy...</td>\n",
       "    </tr>\n",
       "  </tbody>\n",
       "</table>\n",
       "</div>"
      ],
      "text/plain": [
       "   Breach_Year                              Company    State Breach_Type  \\\n",
       "0         2008  Greil Memorial Psychiatric Hospital  Alabama        PHYS   \n",
       "1         2008                         Compass Bank  Alabama        INSD   \n",
       "2         2007              Electronic Data Systems  Alabama        INSD   \n",
       "3         2007      Gadsden State Community College  Alabama        PHYS   \n",
       "4         2007                   DCH Health Systems  Alabama        PORT   \n",
       "\n",
       "  Organization_Type  Total_Recs  \\\n",
       "0               EDU           0   \n",
       "1               BSF     1000000   \n",
       "2               BSO         498   \n",
       "3               EDU         400   \n",
       "4               MED        6000   \n",
       "\n",
       "                                         Description  \n",
       "0  Index cards containing patients \\r\\n          ...  \n",
       "1  A database containing names, account \\r\\n     ...  \n",
       "2  A former employee \\r\\n            was arrested...  \n",
       "3  Students who took \\r\\n            an Art Appre...  \n",
       "4  An encrypted disc \\r\\n            and hardcopy...  "
      ]
     },
     "execution_count": 165,
     "metadata": {},
     "output_type": "execute_result"
    }
   ],
   "source": [
    "#Drop column Breach_Year which has missing values. No longer needed since Date_Public has no missing values.\n",
    "df1 = df.drop(['Latitude', 'Longitude', 'Breach_Type_CAT', 'Organization_Type_CAT'], axis=1)\n",
    "df1.head()"
   ]
  },
  {
   "cell_type": "code",
   "execution_count": 166,
   "metadata": {},
   "outputs": [
    {
     "data": {
      "text/html": [
       "<div>\n",
       "<style scoped>\n",
       "    .dataframe tbody tr th:only-of-type {\n",
       "        vertical-align: middle;\n",
       "    }\n",
       "\n",
       "    .dataframe tbody tr th {\n",
       "        vertical-align: top;\n",
       "    }\n",
       "\n",
       "    .dataframe thead th {\n",
       "        text-align: right;\n",
       "    }\n",
       "</style>\n",
       "<table border=\"1\" class=\"dataframe\">\n",
       "  <thead>\n",
       "    <tr style=\"text-align: right;\">\n",
       "      <th></th>\n",
       "      <th>Breach_Year</th>\n",
       "      <th>Total_Recs</th>\n",
       "    </tr>\n",
       "    <tr>\n",
       "      <th>Breach_Type</th>\n",
       "      <th></th>\n",
       "      <th></th>\n",
       "    </tr>\n",
       "  </thead>\n",
       "  <tbody>\n",
       "    <tr>\n",
       "      <th>CARD</th>\n",
       "      <td>2010.985294</td>\n",
       "      <td>1.353388e+05</td>\n",
       "    </tr>\n",
       "    <tr>\n",
       "      <th>DISC</th>\n",
       "      <td>2012.854801</td>\n",
       "      <td>1.301566e+06</td>\n",
       "    </tr>\n",
       "    <tr>\n",
       "      <th>HACK</th>\n",
       "      <td>2013.549568</td>\n",
       "      <td>3.181225e+06</td>\n",
       "    </tr>\n",
       "    <tr>\n",
       "      <th>INSD</th>\n",
       "      <td>2011.152709</td>\n",
       "      <td>1.372423e+05</td>\n",
       "    </tr>\n",
       "    <tr>\n",
       "      <th>PHYS</th>\n",
       "      <td>2012.301597</td>\n",
       "      <td>2.341843e+04</td>\n",
       "    </tr>\n",
       "    <tr>\n",
       "      <th>PORT</th>\n",
       "      <td>2009.762799</td>\n",
       "      <td>1.584052e+05</td>\n",
       "    </tr>\n",
       "    <tr>\n",
       "      <th>STAT</th>\n",
       "      <td>2009.168675</td>\n",
       "      <td>6.520455e+04</td>\n",
       "    </tr>\n",
       "    <tr>\n",
       "      <th>UNKN</th>\n",
       "      <td>2011.401606</td>\n",
       "      <td>8.149006e+05</td>\n",
       "    </tr>\n",
       "  </tbody>\n",
       "</table>\n",
       "</div>"
      ],
      "text/plain": [
       "             Breach_Year    Total_Recs\n",
       "Breach_Type                           \n",
       "CARD         2010.985294  1.353388e+05\n",
       "DISC         2012.854801  1.301566e+06\n",
       "HACK         2013.549568  3.181225e+06\n",
       "INSD         2011.152709  1.372423e+05\n",
       "PHYS         2012.301597  2.341843e+04\n",
       "PORT         2009.762799  1.584052e+05\n",
       "STAT         2009.168675  6.520455e+04\n",
       "UNKN         2011.401606  8.149006e+05"
      ]
     },
     "execution_count": 166,
     "metadata": {},
     "output_type": "execute_result"
    }
   ],
   "source": [
    "# pivot for breach_type\n",
    "df1.groupby('Breach_Type').mean()"
   ]
  },
  {
   "cell_type": "code",
   "execution_count": 167,
   "metadata": {},
   "outputs": [
    {
     "data": {
      "text/html": [
       "<div>\n",
       "<style scoped>\n",
       "    .dataframe tbody tr th:only-of-type {\n",
       "        vertical-align: middle;\n",
       "    }\n",
       "\n",
       "    .dataframe tbody tr th {\n",
       "        vertical-align: top;\n",
       "    }\n",
       "\n",
       "    .dataframe thead th {\n",
       "        text-align: right;\n",
       "    }\n",
       "</style>\n",
       "<table border=\"1\" class=\"dataframe\">\n",
       "  <thead>\n",
       "    <tr style=\"text-align: right;\">\n",
       "      <th></th>\n",
       "      <th>Breach_Year</th>\n",
       "      <th>Total_Recs</th>\n",
       "    </tr>\n",
       "    <tr>\n",
       "      <th>Organization_Type</th>\n",
       "      <th></th>\n",
       "      <th></th>\n",
       "    </tr>\n",
       "  </thead>\n",
       "  <tbody>\n",
       "    <tr>\n",
       "      <th>BSF</th>\n",
       "      <td>2010.949062</td>\n",
       "      <td>8.623686e+05</td>\n",
       "    </tr>\n",
       "    <tr>\n",
       "      <th>BSO</th>\n",
       "      <td>2012.737354</td>\n",
       "      <td>8.350841e+06</td>\n",
       "    </tr>\n",
       "    <tr>\n",
       "      <th>BSR</th>\n",
       "      <td>2011.518699</td>\n",
       "      <td>1.258897e+06</td>\n",
       "    </tr>\n",
       "    <tr>\n",
       "      <th>EDU</th>\n",
       "      <td>2009.536675</td>\n",
       "      <td>3.076136e+04</td>\n",
       "    </tr>\n",
       "    <tr>\n",
       "      <th>GOV</th>\n",
       "      <td>2010.023226</td>\n",
       "      <td>2.934297e+05</td>\n",
       "    </tr>\n",
       "    <tr>\n",
       "      <th>MED</th>\n",
       "      <td>2013.395879</td>\n",
       "      <td>5.656004e+04</td>\n",
       "    </tr>\n",
       "    <tr>\n",
       "      <th>NGO</th>\n",
       "      <td>2010.762712</td>\n",
       "      <td>7.147919e+04</td>\n",
       "    </tr>\n",
       "  </tbody>\n",
       "</table>\n",
       "</div>"
      ],
      "text/plain": [
       "                   Breach_Year    Total_Recs\n",
       "Organization_Type                           \n",
       "BSF                2010.949062  8.623686e+05\n",
       "BSO                2012.737354  8.350841e+06\n",
       "BSR                2011.518699  1.258897e+06\n",
       "EDU                2009.536675  3.076136e+04\n",
       "GOV                2010.023226  2.934297e+05\n",
       "MED                2013.395879  5.656004e+04\n",
       "NGO                2010.762712  7.147919e+04"
      ]
     },
     "execution_count": 167,
     "metadata": {},
     "output_type": "execute_result"
    }
   ],
   "source": [
    "# pivot for organization_type\n",
    "df1.groupby('Organization_Type').mean()"
   ]
  },
  {
   "cell_type": "code",
   "execution_count": 168,
   "metadata": {},
   "outputs": [
    {
     "data": {
      "text/html": [
       "<div>\n",
       "<style scoped>\n",
       "    .dataframe tbody tr th:only-of-type {\n",
       "        vertical-align: middle;\n",
       "    }\n",
       "\n",
       "    .dataframe tbody tr th {\n",
       "        vertical-align: top;\n",
       "    }\n",
       "\n",
       "    .dataframe thead th {\n",
       "        text-align: right;\n",
       "    }\n",
       "</style>\n",
       "<table border=\"1\" class=\"dataframe\">\n",
       "  <thead>\n",
       "    <tr style=\"text-align: right;\">\n",
       "      <th></th>\n",
       "      <th>Breach_Year</th>\n",
       "      <th>Total_Recs</th>\n",
       "    </tr>\n",
       "    <tr>\n",
       "      <th>State</th>\n",
       "      <th></th>\n",
       "      <th></th>\n",
       "    </tr>\n",
       "  </thead>\n",
       "  <tbody>\n",
       "    <tr>\n",
       "      <th>Alabama</th>\n",
       "      <td>2012.512821</td>\n",
       "      <td>3.671582e+04</td>\n",
       "    </tr>\n",
       "    <tr>\n",
       "      <th>Alaska</th>\n",
       "      <td>2011.913043</td>\n",
       "      <td>7.078087e+03</td>\n",
       "    </tr>\n",
       "    <tr>\n",
       "      <th>Arizona</th>\n",
       "      <td>2012.718519</td>\n",
       "      <td>3.294873e+05</td>\n",
       "    </tr>\n",
       "    <tr>\n",
       "      <th>Arkansas</th>\n",
       "      <td>2013.222222</td>\n",
       "      <td>2.489769e+04</td>\n",
       "    </tr>\n",
       "    <tr>\n",
       "      <th>California</th>\n",
       "      <td>2012.973582</td>\n",
       "      <td>4.297933e+06</td>\n",
       "    </tr>\n",
       "    <tr>\n",
       "      <th>Colorado</th>\n",
       "      <td>2011.478788</td>\n",
       "      <td>3.482903e+04</td>\n",
       "    </tr>\n",
       "    <tr>\n",
       "      <th>Connecticut</th>\n",
       "      <td>2011.572464</td>\n",
       "      <td>2.622728e+04</td>\n",
       "    </tr>\n",
       "    <tr>\n",
       "      <th>Delaware</th>\n",
       "      <td>2011.727273</td>\n",
       "      <td>1.975288e+05</td>\n",
       "    </tr>\n",
       "    <tr>\n",
       "      <th>District Of Columbia</th>\n",
       "      <td>2011.105263</td>\n",
       "      <td>1.279636e+06</td>\n",
       "    </tr>\n",
       "    <tr>\n",
       "      <th>Florida</th>\n",
       "      <td>2012.308046</td>\n",
       "      <td>1.380246e+05</td>\n",
       "    </tr>\n",
       "    <tr>\n",
       "      <th>Georgia</th>\n",
       "      <td>2012.032787</td>\n",
       "      <td>9.825925e+05</td>\n",
       "    </tr>\n",
       "    <tr>\n",
       "      <th>Hawaii</th>\n",
       "      <td>2010.888889</td>\n",
       "      <td>1.820870e+04</td>\n",
       "    </tr>\n",
       "    <tr>\n",
       "      <th>Idaho</th>\n",
       "      <td>2011.363636</td>\n",
       "      <td>6.866727e+03</td>\n",
       "    </tr>\n",
       "    <tr>\n",
       "      <th>Illinois</th>\n",
       "      <td>2012.164179</td>\n",
       "      <td>6.305648e+04</td>\n",
       "    </tr>\n",
       "    <tr>\n",
       "      <th>Indiana</th>\n",
       "      <td>2012.062500</td>\n",
       "      <td>8.055789e+05</td>\n",
       "    </tr>\n",
       "    <tr>\n",
       "      <th>Iowa</th>\n",
       "      <td>2012.268657</td>\n",
       "      <td>1.124448e+04</td>\n",
       "    </tr>\n",
       "    <tr>\n",
       "      <th>Kansas</th>\n",
       "      <td>2012.444444</td>\n",
       "      <td>1.454659e+05</td>\n",
       "    </tr>\n",
       "    <tr>\n",
       "      <th>Kentucky</th>\n",
       "      <td>2011.839286</td>\n",
       "      <td>1.351639e+04</td>\n",
       "    </tr>\n",
       "    <tr>\n",
       "      <th>Louisiana</th>\n",
       "      <td>2012.000000</td>\n",
       "      <td>6.468820e+03</td>\n",
       "    </tr>\n",
       "    <tr>\n",
       "      <th>Maine</th>\n",
       "      <td>2012.666667</td>\n",
       "      <td>1.286729e+05</td>\n",
       "    </tr>\n",
       "    <tr>\n",
       "      <th>Maryland</th>\n",
       "      <td>2013.427807</td>\n",
       "      <td>2.865566e+04</td>\n",
       "    </tr>\n",
       "    <tr>\n",
       "      <th>Massachusetts</th>\n",
       "      <td>2011.948498</td>\n",
       "      <td>4.501187e+05</td>\n",
       "    </tr>\n",
       "    <tr>\n",
       "      <th>Michigan</th>\n",
       "      <td>2011.979592</td>\n",
       "      <td>2.733195e+04</td>\n",
       "    </tr>\n",
       "    <tr>\n",
       "      <th>Minnesota</th>\n",
       "      <td>2012.125000</td>\n",
       "      <td>3.190017e+05</td>\n",
       "    </tr>\n",
       "    <tr>\n",
       "      <th>Mississippi</th>\n",
       "      <td>2012.771429</td>\n",
       "      <td>7.638486e+03</td>\n",
       "    </tr>\n",
       "    <tr>\n",
       "      <th>Missouri</th>\n",
       "      <td>2012.978102</td>\n",
       "      <td>6.563169e+04</td>\n",
       "    </tr>\n",
       "    <tr>\n",
       "      <th>Montana</th>\n",
       "      <td>2011.205882</td>\n",
       "      <td>4.325400e+04</td>\n",
       "    </tr>\n",
       "    <tr>\n",
       "      <th>Nebraska</th>\n",
       "      <td>2010.921053</td>\n",
       "      <td>2.044709e+05</td>\n",
       "    </tr>\n",
       "    <tr>\n",
       "      <th>Nevada</th>\n",
       "      <td>2011.822581</td>\n",
       "      <td>4.004571e+05</td>\n",
       "    </tr>\n",
       "    <tr>\n",
       "      <th>New Hampshire</th>\n",
       "      <td>2011.386364</td>\n",
       "      <td>1.844702e+04</td>\n",
       "    </tr>\n",
       "    <tr>\n",
       "      <th>New Jersey</th>\n",
       "      <td>2012.000000</td>\n",
       "      <td>9.549097e+05</td>\n",
       "    </tr>\n",
       "    <tr>\n",
       "      <th>New Mexico</th>\n",
       "      <td>2011.760000</td>\n",
       "      <td>5.287700e+03</td>\n",
       "    </tr>\n",
       "    <tr>\n",
       "      <th>New York</th>\n",
       "      <td>2011.456811</td>\n",
       "      <td>5.415215e+05</td>\n",
       "    </tr>\n",
       "    <tr>\n",
       "      <th>North Carolina</th>\n",
       "      <td>2011.406863</td>\n",
       "      <td>5.095069e+04</td>\n",
       "    </tr>\n",
       "    <tr>\n",
       "      <th>North Dakota</th>\n",
       "      <td>2013.727273</td>\n",
       "      <td>3.673982e+04</td>\n",
       "    </tr>\n",
       "    <tr>\n",
       "      <th>Ohio</th>\n",
       "      <td>2011.477099</td>\n",
       "      <td>3.259919e+04</td>\n",
       "    </tr>\n",
       "    <tr>\n",
       "      <th>Oklahoma</th>\n",
       "      <td>2011.925373</td>\n",
       "      <td>3.443404e+04</td>\n",
       "    </tr>\n",
       "    <tr>\n",
       "      <th>Oregon</th>\n",
       "      <td>2012.210084</td>\n",
       "      <td>1.152829e+07</td>\n",
       "    </tr>\n",
       "    <tr>\n",
       "      <th>Pennsylvania</th>\n",
       "      <td>2012.046693</td>\n",
       "      <td>6.751983e+04</td>\n",
       "    </tr>\n",
       "    <tr>\n",
       "      <th>Puerto Rico</th>\n",
       "      <td>2011.903226</td>\n",
       "      <td>2.721694e+04</td>\n",
       "    </tr>\n",
       "    <tr>\n",
       "      <th>Rhode Island</th>\n",
       "      <td>2011.209302</td>\n",
       "      <td>7.010047e+03</td>\n",
       "    </tr>\n",
       "    <tr>\n",
       "      <th>South Carolina</th>\n",
       "      <td>2011.916667</td>\n",
       "      <td>1.130136e+05</td>\n",
       "    </tr>\n",
       "    <tr>\n",
       "      <th>South Dakota</th>\n",
       "      <td>2012.666667</td>\n",
       "      <td>3.623833e+03</td>\n",
       "    </tr>\n",
       "    <tr>\n",
       "      <th>Tennessee</th>\n",
       "      <td>2012.108280</td>\n",
       "      <td>8.800318e+04</td>\n",
       "    </tr>\n",
       "    <tr>\n",
       "      <th>Texas</th>\n",
       "      <td>2012.275362</td>\n",
       "      <td>6.311479e+05</td>\n",
       "    </tr>\n",
       "    <tr>\n",
       "      <th>United States</th>\n",
       "      <td>2012.911765</td>\n",
       "      <td>6.044573e+06</td>\n",
       "    </tr>\n",
       "    <tr>\n",
       "      <th>Utah</th>\n",
       "      <td>2011.816667</td>\n",
       "      <td>7.533387e+04</td>\n",
       "    </tr>\n",
       "    <tr>\n",
       "      <th>Vermont</th>\n",
       "      <td>2011.677419</td>\n",
       "      <td>4.939806e+03</td>\n",
       "    </tr>\n",
       "    <tr>\n",
       "      <th>Virginia</th>\n",
       "      <td>2011.876923</td>\n",
       "      <td>1.068499e+06</td>\n",
       "    </tr>\n",
       "    <tr>\n",
       "      <th>Washington</th>\n",
       "      <td>2012.394737</td>\n",
       "      <td>5.801262e+05</td>\n",
       "    </tr>\n",
       "    <tr>\n",
       "      <th>West Virginia</th>\n",
       "      <td>2010.541667</td>\n",
       "      <td>1.286108e+04</td>\n",
       "    </tr>\n",
       "    <tr>\n",
       "      <th>Wisconsin</th>\n",
       "      <td>2012.388350</td>\n",
       "      <td>9.721837e+06</td>\n",
       "    </tr>\n",
       "    <tr>\n",
       "      <th>Wyoming</th>\n",
       "      <td>2013.538462</td>\n",
       "      <td>5.616769e+03</td>\n",
       "    </tr>\n",
       "  </tbody>\n",
       "</table>\n",
       "</div>"
      ],
      "text/plain": [
       "                      Breach_Year    Total_Recs\n",
       "State                                          \n",
       "Alabama               2012.512821  3.671582e+04\n",
       "Alaska                2011.913043  7.078087e+03\n",
       "Arizona               2012.718519  3.294873e+05\n",
       "Arkansas              2013.222222  2.489769e+04\n",
       "California            2012.973582  4.297933e+06\n",
       "Colorado              2011.478788  3.482903e+04\n",
       "Connecticut           2011.572464  2.622728e+04\n",
       "Delaware              2011.727273  1.975288e+05\n",
       "District Of Columbia  2011.105263  1.279636e+06\n",
       "Florida               2012.308046  1.380246e+05\n",
       "Georgia               2012.032787  9.825925e+05\n",
       "Hawaii                2010.888889  1.820870e+04\n",
       "Idaho                 2011.363636  6.866727e+03\n",
       "Illinois              2012.164179  6.305648e+04\n",
       "Indiana               2012.062500  8.055789e+05\n",
       "Iowa                  2012.268657  1.124448e+04\n",
       "Kansas                2012.444444  1.454659e+05\n",
       "Kentucky              2011.839286  1.351639e+04\n",
       "Louisiana             2012.000000  6.468820e+03\n",
       "Maine                 2012.666667  1.286729e+05\n",
       "Maryland              2013.427807  2.865566e+04\n",
       "Massachusetts         2011.948498  4.501187e+05\n",
       "Michigan              2011.979592  2.733195e+04\n",
       "Minnesota             2012.125000  3.190017e+05\n",
       "Mississippi           2012.771429  7.638486e+03\n",
       "Missouri              2012.978102  6.563169e+04\n",
       "Montana               2011.205882  4.325400e+04\n",
       "Nebraska              2010.921053  2.044709e+05\n",
       "Nevada                2011.822581  4.004571e+05\n",
       "New Hampshire         2011.386364  1.844702e+04\n",
       "New Jersey            2012.000000  9.549097e+05\n",
       "New Mexico            2011.760000  5.287700e+03\n",
       "New York              2011.456811  5.415215e+05\n",
       "North Carolina        2011.406863  5.095069e+04\n",
       "North Dakota          2013.727273  3.673982e+04\n",
       "Ohio                  2011.477099  3.259919e+04\n",
       "Oklahoma              2011.925373  3.443404e+04\n",
       "Oregon                2012.210084  1.152829e+07\n",
       "Pennsylvania          2012.046693  6.751983e+04\n",
       "Puerto Rico           2011.903226  2.721694e+04\n",
       "Rhode Island          2011.209302  7.010047e+03\n",
       "South Carolina        2011.916667  1.130136e+05\n",
       "South Dakota          2012.666667  3.623833e+03\n",
       "Tennessee             2012.108280  8.800318e+04\n",
       "Texas                 2012.275362  6.311479e+05\n",
       "United States         2012.911765  6.044573e+06\n",
       "Utah                  2011.816667  7.533387e+04\n",
       "Vermont               2011.677419  4.939806e+03\n",
       "Virginia              2011.876923  1.068499e+06\n",
       "Washington            2012.394737  5.801262e+05\n",
       "West Virginia         2010.541667  1.286108e+04\n",
       "Wisconsin             2012.388350  9.721837e+06\n",
       "Wyoming               2013.538462  5.616769e+03"
      ]
     },
     "execution_count": 168,
     "metadata": {},
     "output_type": "execute_result"
    }
   ],
   "source": [
    "# pivot for state\n",
    "df1.groupby('State').mean()"
   ]
  },
  {
   "cell_type": "code",
   "execution_count": 122,
   "metadata": {},
   "outputs": [
    {
     "data": {
      "text/plain": [
       "Organization_Type  Breach_Type\n",
       "BSF                CARD             24\n",
       "                   DISC            122\n",
       "                   HACK            210\n",
       "                   INSD            101\n",
       "                   PHYS             64\n",
       "                   PORT            161\n",
       "                   STAT             27\n",
       "                   UNKN             37\n",
       "BSO                CARD              5\n",
       "                   DISC            116\n",
       "                   HACK            602\n",
       "                   INSD             63\n",
       "                   PHYS             61\n",
       "                   PORT            137\n",
       "                   STAT             22\n",
       "                   UNKN             22\n",
       "BSR                CARD             37\n",
       "                   DISC             66\n",
       "                   HACK            298\n",
       "                   INSD             73\n",
       "                   PHYS             38\n",
       "                   PORT             66\n",
       "                   STAT             16\n",
       "                   UNKN             21\n",
       "EDU                CARD              1\n",
       "                   DISC            238\n",
       "                   HACK            288\n",
       "                   INSD             26\n",
       "                   PHYS             61\n",
       "                   PORT            138\n",
       "                   STAT             48\n",
       "                   UNKN             18\n",
       "GOV                DISC            225\n",
       "                   HACK            147\n",
       "                   INSD             80\n",
       "                   PHYS            104\n",
       "                   PORT            170\n",
       "                   STAT             24\n",
       "                   UNKN             25\n",
       "MED                CARD              1\n",
       "                   DISC            926\n",
       "                   HACK            848\n",
       "                   INSD            257\n",
       "                   PHYS           1352\n",
       "                   PORT            463\n",
       "                   STAT            107\n",
       "                   UNKN            123\n",
       "NGO                DISC             15\n",
       "                   HACK             38\n",
       "                   INSD              9\n",
       "                   PHYS             11\n",
       "                   PORT             37\n",
       "                   STAT              5\n",
       "                   UNKN              3\n",
       "dtype: int64"
      ]
     },
     "execution_count": 122,
     "metadata": {},
     "output_type": "execute_result"
    }
   ],
   "source": [
    "## Effect of Breach Type by Organization\n",
    "df.groupby(['Organization_Type', 'Breach_Type']).size()"
   ]
  },
  {
   "cell_type": "code",
   "execution_count": 123,
   "metadata": {},
   "outputs": [
    {
     "data": {
      "text/plain": [
       "Breach_Type  Organization_Type\n",
       "CARD         BSF                    24\n",
       "             BSO                     5\n",
       "             BSR                    37\n",
       "             EDU                     1\n",
       "             MED                     1\n",
       "DISC         BSF                   122\n",
       "             BSO                   116\n",
       "             BSR                    66\n",
       "             EDU                   238\n",
       "             GOV                   225\n",
       "             MED                   926\n",
       "             NGO                    15\n",
       "HACK         BSF                   210\n",
       "             BSO                   602\n",
       "             BSR                   298\n",
       "             EDU                   288\n",
       "             GOV                   147\n",
       "             MED                   848\n",
       "             NGO                    38\n",
       "INSD         BSF                   101\n",
       "             BSO                    63\n",
       "             BSR                    73\n",
       "             EDU                    26\n",
       "             GOV                    80\n",
       "             MED                   257\n",
       "             NGO                     9\n",
       "PHYS         BSF                    64\n",
       "             BSO                    61\n",
       "             BSR                    38\n",
       "             EDU                    61\n",
       "             GOV                   104\n",
       "             MED                  1352\n",
       "             NGO                    11\n",
       "PORT         BSF                   161\n",
       "             BSO                   137\n",
       "             BSR                    66\n",
       "             EDU                   138\n",
       "             GOV                   170\n",
       "             MED                   463\n",
       "             NGO                    37\n",
       "STAT         BSF                    27\n",
       "             BSO                    22\n",
       "             BSR                    16\n",
       "             EDU                    48\n",
       "             GOV                    24\n",
       "             MED                   107\n",
       "             NGO                     5\n",
       "UNKN         BSF                    37\n",
       "             BSO                    22\n",
       "             BSR                    21\n",
       "             EDU                    18\n",
       "             GOV                    25\n",
       "             MED                   123\n",
       "             NGO                     3\n",
       "dtype: int64"
      ]
     },
     "execution_count": 123,
     "metadata": {},
     "output_type": "execute_result"
    }
   ],
   "source": [
    "## Effect of Organization Type by Breach Type\n",
    "df.groupby(['Breach_Type', 'Organization_Type']).size()"
   ]
  },
  {
   "cell_type": "code",
   "execution_count": 130,
   "metadata": {},
   "outputs": [],
   "source": [
    "# Obtain counts to get breach count by State\n",
    "st_count = df.groupby('State').count()\n",
    "# how many breaches were in each breach type category by state\n",
    "breachtype_count = df.groupby('State').Breach_Type_CAT.count()\n",
    "#how many breaches did each State have by breach type?"
   ]
  },
  {
   "cell_type": "code",
   "execution_count": 131,
   "metadata": {},
   "outputs": [
    {
     "data": {
      "text/plain": [
       "Text(0.5,1,'Breaches by State')"
      ]
     },
     "execution_count": 131,
     "metadata": {},
     "output_type": "execute_result"
    },
    {
     "data": {
      "image/png": "[encoded data removed]",
      "text/plain": [
       "<Figure size 1080x1080 with 1 Axes>"
      ]
     },
     "metadata": {},
     "output_type": "display_data"
    }
   ],
   "source": [
    "bins = 52\n",
    "#plt.figure\n",
    "plt.figure(bins, figsize=(15,15))\n",
    "breachtype_count.plot(kind='bar')\n",
    "plt.xlabel('State')\n",
    "plt.ylabel('Count by State')\n",
    "plt.title(\"Breaches by State\")"
   ]
  },
  {
   "cell_type": "code",
   "execution_count": 155,
   "metadata": {},
   "outputs": [],
   "source": [
    "# Breaches by Breach Type\n",
    "bcount = df.groupby('Breach_Type').size()"
   ]
  },
  {
   "cell_type": "code",
   "execution_count": 159,
   "metadata": {},
   "outputs": [
    {
     "data": {
      "text/plain": [
       "Text(0.5,1,'Total Records by Breach Type')"
      ]
     },
     "execution_count": 159,
     "metadata": {},
     "output_type": "execute_result"
    },
    {
     "data": {
      "image/png": "[encoded data removed]",
      "text/plain": [
       "<Figure size 432x288 with 1 Axes>"
      ]
     },
     "metadata": {},
     "output_type": "display_data"
    }
   ],
   "source": [
    "bt_count = df.groupby('Breach_Type').Total_Recs.sum()\n",
    "plt.figure\n",
    "bt_count.plot(kind='bar')\n",
    "plt.xlabel('Breach Type')\n",
    "plt.ylabel('Total Records')\n",
    "plt.title(\"Total Records by Breach Type\")"
   ]
  },
  {
   "cell_type": "markdown",
   "metadata": {},
   "source": [
    "#### Hacking has the biggest impact in terms of total records affected."
   ]
  },
  {
   "cell_type": "code",
   "execution_count": 146,
   "metadata": {},
   "outputs": [
    {
     "data": {
      "text/plain": [
       "Text(0.5,1,'Breach Occurrences by Breach Type')"
      ]
     },
     "execution_count": 146,
     "metadata": {},
     "output_type": "execute_result"
    },
    {
     "data": {
      "image/png": "[encoded data removed]",
      "text/plain": [
       "<Figure size 432x288 with 1 Axes>"
      ]
     },
     "metadata": {},
     "output_type": "display_data"
    }
   ],
   "source": [
    "plt.figure\n",
    "bcount.plot(kind='bar')\n",
    "plt.xlabel('Breach Type')\n",
    "plt.ylabel('Breach Count')\n",
    "plt.title(\"Breach Occurrences by Breach Type\")"
   ]
  },
  {
   "cell_type": "code",
   "execution_count": 139,
   "metadata": {},
   "outputs": [
    {
     "data": {
      "text/plain": [
       "<seaborn.axisgrid.FacetGrid at 0x184d49b0>"
      ]
     },
     "execution_count": 139,
     "metadata": {},
     "output_type": "execute_result"
    },
    {
     "data": {
      "image/png": "[encoded data removed]",
      "text/plain": [
       "<Figure size 360x360 with 1 Axes>"
      ]
     },
     "metadata": {},
     "output_type": "display_data"
    }
   ],
   "source": [
    "#draw a scatter chart: Total Records Breached vs Organization Type \n",
    "sns.lmplot('Organization_Type_CAT', 'Total_Recs', data=df, fit_reg=False)"
   ]
  },
  {
   "cell_type": "code",
   "execution_count": 141,
   "metadata": {},
   "outputs": [],
   "source": [
    "## Effect of Breach Type by State\n",
    "breachStCount = df.groupby(['State', 'Breach_Type']).size()\n"
   ]
  },
  {
   "cell_type": "code",
   "execution_count": 169,
   "metadata": {},
   "outputs": [
    {
     "data": {
      "text/html": [
       "<div>\n",
       "<style scoped>\n",
       "    .dataframe tbody tr th:only-of-type {\n",
       "        vertical-align: middle;\n",
       "    }\n",
       "\n",
       "    .dataframe tbody tr th {\n",
       "        vertical-align: top;\n",
       "    }\n",
       "\n",
       "    .dataframe thead th {\n",
       "        text-align: right;\n",
       "    }\n",
       "</style>\n",
       "<table border=\"1\" class=\"dataframe\">\n",
       "  <thead>\n",
       "    <tr style=\"text-align: right;\">\n",
       "      <th></th>\n",
       "      <th>Breach_Year</th>\n",
       "      <th>Total_Recs</th>\n",
       "      <th>Latitude</th>\n",
       "      <th>Longitude</th>\n",
       "      <th>Breach_Type_CAT</th>\n",
       "      <th>Organization_Type_CAT</th>\n",
       "    </tr>\n",
       "  </thead>\n",
       "  <tbody>\n",
       "    <tr>\n",
       "      <th>Breach_Year</th>\n",
       "      <td>1.000000</td>\n",
       "      <td>0.026553</td>\n",
       "      <td>-0.002773</td>\n",
       "      <td>-0.005037</td>\n",
       "      <td>-0.105561</td>\n",
       "      <td>0.188673</td>\n",
       "    </tr>\n",
       "    <tr>\n",
       "      <th>Total_Recs</th>\n",
       "      <td>0.026553</td>\n",
       "      <td>1.000000</td>\n",
       "      <td>0.001427</td>\n",
       "      <td>-0.035386</td>\n",
       "      <td>-0.014990</td>\n",
       "      <td>-0.041960</td>\n",
       "    </tr>\n",
       "    <tr>\n",
       "      <th>Latitude</th>\n",
       "      <td>-0.002773</td>\n",
       "      <td>0.001427</td>\n",
       "      <td>1.000000</td>\n",
       "      <td>0.182136</td>\n",
       "      <td>0.013541</td>\n",
       "      <td>0.074969</td>\n",
       "    </tr>\n",
       "    <tr>\n",
       "      <th>Longitude</th>\n",
       "      <td>-0.005037</td>\n",
       "      <td>-0.035386</td>\n",
       "      <td>0.182136</td>\n",
       "      <td>1.000000</td>\n",
       "      <td>0.040156</td>\n",
       "      <td>0.183028</td>\n",
       "    </tr>\n",
       "    <tr>\n",
       "      <th>Breach_Type_CAT</th>\n",
       "      <td>-0.105561</td>\n",
       "      <td>-0.014990</td>\n",
       "      <td>0.013541</td>\n",
       "      <td>0.040156</td>\n",
       "      <td>1.000000</td>\n",
       "      <td>0.170874</td>\n",
       "    </tr>\n",
       "    <tr>\n",
       "      <th>Organization_Type_CAT</th>\n",
       "      <td>0.188673</td>\n",
       "      <td>-0.041960</td>\n",
       "      <td>0.074969</td>\n",
       "      <td>0.183028</td>\n",
       "      <td>0.170874</td>\n",
       "      <td>1.000000</td>\n",
       "    </tr>\n",
       "  </tbody>\n",
       "</table>\n",
       "</div>"
      ],
      "text/plain": [
       "                       Breach_Year  Total_Recs  Latitude  Longitude  \\\n",
       "Breach_Year               1.000000    0.026553 -0.002773  -0.005037   \n",
       "Total_Recs                0.026553    1.000000  0.001427  -0.035386   \n",
       "Latitude                 -0.002773    0.001427  1.000000   0.182136   \n",
       "Longitude                -0.005037   -0.035386  0.182136   1.000000   \n",
       "Breach_Type_CAT          -0.105561   -0.014990  0.013541   0.040156   \n",
       "Organization_Type_CAT     0.188673   -0.041960  0.074969   0.183028   \n",
       "\n",
       "                       Breach_Type_CAT  Organization_Type_CAT  \n",
       "Breach_Year                  -0.105561               0.188673  \n",
       "Total_Recs                   -0.014990              -0.041960  \n",
       "Latitude                      0.013541               0.074969  \n",
       "Longitude                     0.040156               0.183028  \n",
       "Breach_Type_CAT               1.000000               0.170874  \n",
       "Organization_Type_CAT         0.170874               1.000000  "
      ]
     },
     "execution_count": 169,
     "metadata": {},
     "output_type": "execute_result"
    }
   ],
   "source": [
    "#correlation analysis\n",
    "df.corr()"
   ]
  },
  {
   "cell_type": "code",
   "execution_count": 170,
   "metadata": {},
   "outputs": [
    {
     "data": {
      "text/plain": [
       "<matplotlib.axes._subplots.AxesSubplot at 0x5e32dbe0>"
      ]
     },
     "execution_count": 170,
     "metadata": {},
     "output_type": "execute_result"
    },
    {
     "data": {
      "image/png": "[encoded data removed]",
      "text/plain": [
       "<Figure size 432x288 with 2 Axes>"
      ]
     },
     "metadata": {},
     "output_type": "display_data"
    }
   ],
   "source": [
    "#correlation in a map or a chart \n",
    "sns.heatmap(df.corr())"
   ]
  },
  {
   "cell_type": "code",
   "execution_count": 171,
   "metadata": {},
   "outputs": [
    {
     "data": {
      "text/html": [
       "<div>\n",
       "<style scoped>\n",
       "    .dataframe tbody tr th:only-of-type {\n",
       "        vertical-align: middle;\n",
       "    }\n",
       "\n",
       "    .dataframe tbody tr th {\n",
       "        vertical-align: top;\n",
       "    }\n",
       "\n",
       "    .dataframe thead th {\n",
       "        text-align: right;\n",
       "    }\n",
       "</style>\n",
       "<table border=\"1\" class=\"dataframe\">\n",
       "  <thead>\n",
       "    <tr style=\"text-align: right;\">\n",
       "      <th></th>\n",
       "      <th>Total_Recs</th>\n",
       "    </tr>\n",
       "  </thead>\n",
       "  <tbody>\n",
       "    <tr>\n",
       "      <th>Total_Recs</th>\n",
       "      <td>1.0</td>\n",
       "    </tr>\n",
       "  </tbody>\n",
       "</table>\n",
       "</div>"
      ],
      "text/plain": [
       "            Total_Recs\n",
       "Total_Recs         1.0"
      ]
     },
     "execution_count": 171,
     "metadata": {},
     "output_type": "execute_result"
    }
   ],
   "source": [
    "#correlation between State and Total_Recs\n",
    "df[['State','Total_Recs']].corr()\n"
   ]
  },
  {
   "cell_type": "markdown",
   "metadata": {},
   "source": [
    "### Need to convert State and Breach Year to a numeric value before conducting Hypothesis Testing, then need to rerun entire sets of Python Notebook."
   ]
  },
  {
   "cell_type": "code",
   "execution_count": null,
   "metadata": {},
   "outputs": [],
   "source": []
  }
 ],
 "metadata": {
  "kernelspec": {
   "display_name": "Python [default]",
   "language": "python",
   "name": "python2"
  },
  "language_info": {
   "codemirror_mode": {
    "name": "ipython",
    "version": 2
   },
   "file_extension": ".py",
   "mimetype": "text/x-python",
   "name": "python",
   "nbconvert_exporter": "python",
   "pygments_lexer": "ipython2",
   "version": "2.7.14"
  }
 },
 "nbformat": 4,
 "nbformat_minor": 1
}
