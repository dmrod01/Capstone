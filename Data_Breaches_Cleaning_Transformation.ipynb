{
 "cells": [
  {
   "cell_type": "markdown",
   "metadata": {
    "collapsed": true
   },
   "source": [
    "## Data Breach Analytics 2005 - 2017\n",
    "\n",
    "**By Miriam Rodriguez**\n"
   ]
  },
  {
   "cell_type": "raw",
   "metadata": {},
   "source": [
    "Data Assessment / Transformation / Cleaning\n",
    "•\tData description\n",
    "•\tData quality assessment\n",
    "•\tData transformation\n",
    "•\tData cleaning\n",
    "\n",
    "•\tAdditional data collection should be done through web scraping/crawling. \n",
    "For example, the business questions below include comparison of data breaches in terms of U.S. states. \n",
    "•\tSome large states (e.g., California) with many businesses/populations have more cases of data breaches than such U.S states as Wyoming and Idaho. \n",
    "•\tData about gross domestic product (GDP) for U.S. states between 2005 and 2016 needs to be collected  \n",
    "•\tNormalize the number of data breaches by using each state's GDP.  Do a join by state code.\n"
   ]
  },
  {
   "cell_type": "markdown",
   "metadata": {},
   "source": [
    "### Data Description\n",
    "\n",
    "#### Dataset\n",
    "- Dataset name:              Privacy_Rights_Clearinghouse-Data-Breaches-Export.csv\n",
    "- Source:                    https://www.privacyrights.org/data-breaches (Links to an external site.). \n",
    "- Data Description and FAQ:  https://www.privacyrights.org/chronology-data-breaches-faq \n",
    "- Duration of the data:      2005 through 2017\n",
    "\n",
    "#### Data Breach Types\n",
    "   - CARD - Payment Card Fraud:    Fraud involving debit and credit cards that is not accomplished via hacking (e.g. skimming                                      devices at point-of-service terminals).\n",
    "   - HACK - Hacking or Malware:    Hacked by outside party or infected by malware\n",
    "   - INSD - Insider:               Someone with legitimate access intentionally breaches information, such as an employee,                                          contractor, or customer)\n",
    "   - PHYS - Physical Loss:         Includes paper documents that are lost, discarded, or stolen (non-electronic)\n",
    "   - PORT - Portable Device:       Lost, discarded, or stolen laptop, PDA, smartphone, memory stick, CDs, hard drive, data tape,                                    etc.\n",
    "   - STAT - Stationary Device:     Stationary computer loss (lost, inappropriately accessed, discarded, or stolen computer or                                      server not designed for mobility)\n",
    "   - DISC - Unintended Disclosure: Unintended disclosure (not involving hacking, intentional breach, or physical loss i.e.                                          sensitive information posted publicly, mishandled, sent to the wrong party via publishing                                      online, sending in an email, sending in a mailing or sending via fax.\n",
    "   - Unknown\n",
    "\n",
    "#### Institution/Organization) Type\n",
    "-\tBSF - Businesses - Financial and Insurance Services\n",
    "-\tBSO - Businesses - Other\n",
    "-\tBSR - Businesses - Retail/Merchant – Including Online Retail\n",
    "-\tEDU - Educational Institutions\n",
    "-\tGOV - Government & Military\n",
    "-\tMED - Healthcare - Medical Providers & Medical Insurance Services\n",
    "-\tNGO - Nonprofit Organizations\n",
    "\n",
    "#### Data elements/column names\n",
    "1.\tDate Made Public: Date Breach information released to public (date: year, month, day)\n",
    "2.\tCompany: Company breached (text)\n",
    "3.\tCity: City of breached company (text)\n",
    "4.\tState: State of breached company (text)\n",
    "5.\tType of Breach: Refer to four-character Breach Type above\n",
    "6.\tType of Organization: Refer to three-character Institution/Organization Type above\n",
    "7.\tTotal Records: Number of records breached (integer)\n",
    "8.\tDescription of Incident: Text describing breach (text)\n",
    "9.\tInformation Source: Location of database source (text)\n",
    "10.\tSource URL: Location of data source URL (text)\n",
    "11.\tYear of Breach: Four digit year (numeric)\n",
    "12.\tLatitude: Location Latitude (signed numeric long)\n",
    "13.\tLongitude: Location Longitude (signed numeric long)\n"
   ]
  },
  {
   "cell_type": "raw",
   "metadata": {},
   "source": [
    "# Importing packages "
   ]
  },
  {
   "cell_type": "code",
   "execution_count": 80,
   "metadata": {},
   "outputs": [],
   "source": [
    "# import python packages\n",
    "import pandas as pd\n",
    "import numpy as np\n",
    "import matplotlib as plt\n",
    "%matplotlib inline"
   ]
  },
  {
   "cell_type": "markdown",
   "metadata": {},
   "source": [
    "# Importing Data & Basic Statistics"
   ]
  },
  {
   "cell_type": "code",
   "execution_count": 81,
   "metadata": {},
   "outputs": [
    {
     "data": {
      "text/html": [
       "<div>\n",
       "<style scoped>\n",
       "    .dataframe tbody tr th:only-of-type {\n",
       "        vertical-align: middle;\n",
       "    }\n",
       "\n",
       "    .dataframe tbody tr th {\n",
       "        vertical-align: top;\n",
       "    }\n",
       "\n",
       "    .dataframe thead th {\n",
       "        text-align: right;\n",
       "    }\n",
       "</style>\n",
       "<table border=\"1\" class=\"dataframe\">\n",
       "  <thead>\n",
       "    <tr style=\"text-align: right;\">\n",
       "      <th></th>\n",
       "      <th>Date Made Public</th>\n",
       "      <th>Company</th>\n",
       "      <th>City</th>\n",
       "      <th>State</th>\n",
       "      <th>Type of breach</th>\n",
       "      <th>Type of organization</th>\n",
       "      <th>Total Records</th>\n",
       "      <th>Description of incident</th>\n",
       "      <th>Information Source</th>\n",
       "      <th>Source URL</th>\n",
       "      <th>Year of Breach</th>\n",
       "      <th>Latitude</th>\n",
       "      <th>Longitude</th>\n",
       "    </tr>\n",
       "  </thead>\n",
       "  <tbody>\n",
       "    <tr>\n",
       "      <th>0</th>\n",
       "      <td>16-May-08</td>\n",
       "      <td>Greil Memorial Psychiatric Hospital</td>\n",
       "      <td>Montgomery</td>\n",
       "      <td>Alabama</td>\n",
       "      <td>PHYS</td>\n",
       "      <td>EDU</td>\n",
       "      <td>0</td>\n",
       "      <td>Index cards containing patients \\n            ...</td>\n",
       "      <td>Dataloss DB</td>\n",
       "      <td>NaN</td>\n",
       "      <td>2008.0</td>\n",
       "      <td>32.366805</td>\n",
       "      <td>-86.299969</td>\n",
       "    </tr>\n",
       "    <tr>\n",
       "      <th>1</th>\n",
       "      <td>21-Mar-08</td>\n",
       "      <td>Compass Bank</td>\n",
       "      <td>Birmingham</td>\n",
       "      <td>Alabama</td>\n",
       "      <td>INSD</td>\n",
       "      <td>BSF</td>\n",
       "      <td>1,000,000</td>\n",
       "      <td>A database containing names, account \\n       ...</td>\n",
       "      <td>Dataloss DB</td>\n",
       "      <td>NaN</td>\n",
       "      <td>2008.0</td>\n",
       "      <td>33.520661</td>\n",
       "      <td>-86.802490</td>\n",
       "    </tr>\n",
       "    <tr>\n",
       "      <th>2</th>\n",
       "      <td>7-Aug-07</td>\n",
       "      <td>Electronic Data Systems</td>\n",
       "      <td>Montgomery</td>\n",
       "      <td>Alabama</td>\n",
       "      <td>INSD</td>\n",
       "      <td>BSO</td>\n",
       "      <td>498</td>\n",
       "      <td>A former employee \\n            was arrested t...</td>\n",
       "      <td>Dataloss DB</td>\n",
       "      <td>NaN</td>\n",
       "      <td>2007.0</td>\n",
       "      <td>32.366805</td>\n",
       "      <td>-86.299969</td>\n",
       "    </tr>\n",
       "    <tr>\n",
       "      <th>3</th>\n",
       "      <td>3-Jun-07</td>\n",
       "      <td>Gadsden State Community College</td>\n",
       "      <td>College Gadsden</td>\n",
       "      <td>Alabama</td>\n",
       "      <td>PHYS</td>\n",
       "      <td>EDU</td>\n",
       "      <td>400</td>\n",
       "      <td>Students who took \\n            an Art Appreci...</td>\n",
       "      <td>Dataloss DB</td>\n",
       "      <td>NaN</td>\n",
       "      <td>2007.0</td>\n",
       "      <td>34.025272</td>\n",
       "      <td>-85.995891</td>\n",
       "    </tr>\n",
       "    <tr>\n",
       "      <th>4</th>\n",
       "      <td>5-Apr-07</td>\n",
       "      <td>DCH Health Systems</td>\n",
       "      <td>Tuscaloosa</td>\n",
       "      <td>Alabama</td>\n",
       "      <td>PORT</td>\n",
       "      <td>MED</td>\n",
       "      <td>6,000</td>\n",
       "      <td>An encrypted disc \\n            and hardcopy d...</td>\n",
       "      <td>Dataloss DB</td>\n",
       "      <td>NaN</td>\n",
       "      <td>2007.0</td>\n",
       "      <td>33.209841</td>\n",
       "      <td>-87.569174</td>\n",
       "    </tr>\n",
       "  </tbody>\n",
       "</table>\n",
       "</div>"
      ],
      "text/plain": [
       "  Date Made Public                              Company             City  \\\n",
       "0        16-May-08  Greil Memorial Psychiatric Hospital       Montgomery   \n",
       "1        21-Mar-08                         Compass Bank       Birmingham   \n",
       "2         7-Aug-07              Electronic Data Systems       Montgomery   \n",
       "3         3-Jun-07      Gadsden State Community College  College Gadsden   \n",
       "4         5-Apr-07                   DCH Health Systems       Tuscaloosa   \n",
       "\n",
       "     State Type of breach Type of organization Total Records  \\\n",
       "0  Alabama           PHYS                  EDU             0   \n",
       "1  Alabama           INSD                  BSF     1,000,000   \n",
       "2  Alabama           INSD                  BSO           498   \n",
       "3  Alabama           PHYS                  EDU           400   \n",
       "4  Alabama           PORT                  MED         6,000   \n",
       "\n",
       "                             Description of incident Information Source  \\\n",
       "0  Index cards containing patients \\n            ...        Dataloss DB   \n",
       "1  A database containing names, account \\n       ...        Dataloss DB   \n",
       "2  A former employee \\n            was arrested t...        Dataloss DB   \n",
       "3  Students who took \\n            an Art Appreci...        Dataloss DB   \n",
       "4  An encrypted disc \\n            and hardcopy d...        Dataloss DB   \n",
       "\n",
       "  Source URL  Year of Breach   Latitude  Longitude  \n",
       "0        NaN          2008.0  32.366805 -86.299969  \n",
       "1        NaN          2008.0  33.520661 -86.802490  \n",
       "2        NaN          2007.0  32.366805 -86.299969  \n",
       "3        NaN          2007.0  34.025272 -85.995891  \n",
       "4        NaN          2007.0  33.209841 -87.569174  "
      ]
     },
     "execution_count": 81,
     "metadata": {},
     "output_type": "execute_result"
    }
   ],
   "source": [
    "#import breach data ... open or read the breach data\n",
    "df=pd.read_csv(\"Privacy_Rights_Clearinghouse-Data-Breaches-Export.csv\")\n",
    "df.head()\n"
   ]
  },
  {
   "cell_type": "raw",
   "metadata": {},
   "source": [
    "Data quality assessment\n",
    "\n",
    "Data Quality Issues and Reporting:  \n",
    "•\tPerform data quality assessment \n",
    "    (e.g., data types, missing values, summary statistics, and inconsistent values). \n",
    "•   Report results and how each issue will be addressed\n",
    "\n",
    "Data Transformation and Cleaning Task List: \n",
    "\n",
    "•\tTwo columns (Information Source, Source URL) are not necessary for analysis. Remove them.\n",
    "•\tRename columns (some column names are too long with spaces).\n",
    "•\tMissing values. Show your work to handle missing values.\n",
    "    o   Column name\n",
    "    o\tMethod used to resolve them \n",
    "    o\tJustification for the use of that method  \n",
    "•\tChange data types, if necessary.\n",
    "•\tOther data cleaning and transformation necessary and explanation\n"
   ]
  },
  {
   "cell_type": "markdown",
   "metadata": {},
   "source": [
    "### Determine data types and missing values"
   ]
  },
  {
   "cell_type": "code",
   "execution_count": 82,
   "metadata": {},
   "outputs": [
    {
     "data": {
      "text/plain": [
       "Date Made Public              0\n",
       "Company                       0\n",
       "City                       2520\n",
       "State                        68\n",
       "Type of breach                0\n",
       "Type of organization          0\n",
       "Total Records                38\n",
       "Description of incident       3\n",
       "Information Source           54\n",
       "Source URL                 5410\n",
       "Year of Breach               33\n",
       "Latitude                      0\n",
       "Longitude                     0\n",
       "dtype: int64"
      ]
     },
     "execution_count": 82,
     "metadata": {},
     "output_type": "execute_result"
    }
   ],
   "source": [
    "# how many missing values in each column or variable\n",
    "df.isnull().sum()"
   ]
  },
  {
   "cell_type": "markdown",
   "metadata": {},
   "source": [
    "**There are 8202 records total.**  \n",
    "\n",
    "** There are data quality issues**\n",
    "\n",
    "\n",
    "** Based upon above counts, there are missing values for City, State, Total_Recs, Description, Breach_Year **\n",
    "** Latitude and Longitude should be objects or a different data type **\n",
    "\n",
    "Column name: City \n",
    "- How resolved: Replace spaces with 'Not Specified'\n",
    "- Justification: This value was not provided in the file.\n",
    "\n",
    "Column name: State\n",
    "- How resolved: Replace spaces with 'Not Specified'\n",
    "- Justification: This value was not provided in the file.\n",
    "\n",
    "Column name: Total_Recs \n",
    "- How resolved: Move zeros to null values. Then convert to float to remove zeros, then convert to int.\n",
    "- Justification: This will enable the ability to measure the quanitative impact.\n",
    "\n",
    "Column name: Description \n",
    "- How resolved: Replace spaces with 'None'\n",
    "- Justification: This value was not provided in the file.\n",
    "\n",
    "Column name: Breach_Year\n",
    "- How resolved:   Delete the column\n",
    "- Justification:  We have date with year with no empty values so do not need this field\n"
   ]
  },
  {
   "cell_type": "markdown",
   "metadata": {},
   "source": [
    "Remove the following fields as they are not needed:\n",
    "- Information Source \n",
    "- Source URL "
   ]
  },
  {
   "cell_type": "code",
   "execution_count": 83,
   "metadata": {},
   "outputs": [
    {
     "data": {
      "text/html": [
       "<div>\n",
       "<style scoped>\n",
       "    .dataframe tbody tr th:only-of-type {\n",
       "        vertical-align: middle;\n",
       "    }\n",
       "\n",
       "    .dataframe tbody tr th {\n",
       "        vertical-align: top;\n",
       "    }\n",
       "\n",
       "    .dataframe thead th {\n",
       "        text-align: right;\n",
       "    }\n",
       "</style>\n",
       "<table border=\"1\" class=\"dataframe\">\n",
       "  <thead>\n",
       "    <tr style=\"text-align: right;\">\n",
       "      <th></th>\n",
       "      <th>Date Made Public</th>\n",
       "      <th>Company</th>\n",
       "      <th>City</th>\n",
       "      <th>State</th>\n",
       "      <th>Type of breach</th>\n",
       "      <th>Type of organization</th>\n",
       "      <th>Total Records</th>\n",
       "      <th>Description of incident</th>\n",
       "      <th>Year of Breach</th>\n",
       "      <th>Latitude</th>\n",
       "      <th>Longitude</th>\n",
       "    </tr>\n",
       "  </thead>\n",
       "  <tbody>\n",
       "    <tr>\n",
       "      <th>0</th>\n",
       "      <td>16-May-08</td>\n",
       "      <td>Greil Memorial Psychiatric Hospital</td>\n",
       "      <td>Montgomery</td>\n",
       "      <td>Alabama</td>\n",
       "      <td>PHYS</td>\n",
       "      <td>EDU</td>\n",
       "      <td>0</td>\n",
       "      <td>Index cards containing patients \\n            ...</td>\n",
       "      <td>2008.0</td>\n",
       "      <td>32.366805</td>\n",
       "      <td>-86.299969</td>\n",
       "    </tr>\n",
       "    <tr>\n",
       "      <th>1</th>\n",
       "      <td>21-Mar-08</td>\n",
       "      <td>Compass Bank</td>\n",
       "      <td>Birmingham</td>\n",
       "      <td>Alabama</td>\n",
       "      <td>INSD</td>\n",
       "      <td>BSF</td>\n",
       "      <td>1,000,000</td>\n",
       "      <td>A database containing names, account \\n       ...</td>\n",
       "      <td>2008.0</td>\n",
       "      <td>33.520661</td>\n",
       "      <td>-86.802490</td>\n",
       "    </tr>\n",
       "    <tr>\n",
       "      <th>2</th>\n",
       "      <td>7-Aug-07</td>\n",
       "      <td>Electronic Data Systems</td>\n",
       "      <td>Montgomery</td>\n",
       "      <td>Alabama</td>\n",
       "      <td>INSD</td>\n",
       "      <td>BSO</td>\n",
       "      <td>498</td>\n",
       "      <td>A former employee \\n            was arrested t...</td>\n",
       "      <td>2007.0</td>\n",
       "      <td>32.366805</td>\n",
       "      <td>-86.299969</td>\n",
       "    </tr>\n",
       "    <tr>\n",
       "      <th>3</th>\n",
       "      <td>3-Jun-07</td>\n",
       "      <td>Gadsden State Community College</td>\n",
       "      <td>College Gadsden</td>\n",
       "      <td>Alabama</td>\n",
       "      <td>PHYS</td>\n",
       "      <td>EDU</td>\n",
       "      <td>400</td>\n",
       "      <td>Students who took \\n            an Art Appreci...</td>\n",
       "      <td>2007.0</td>\n",
       "      <td>34.025272</td>\n",
       "      <td>-85.995891</td>\n",
       "    </tr>\n",
       "    <tr>\n",
       "      <th>4</th>\n",
       "      <td>5-Apr-07</td>\n",
       "      <td>DCH Health Systems</td>\n",
       "      <td>Tuscaloosa</td>\n",
       "      <td>Alabama</td>\n",
       "      <td>PORT</td>\n",
       "      <td>MED</td>\n",
       "      <td>6,000</td>\n",
       "      <td>An encrypted disc \\n            and hardcopy d...</td>\n",
       "      <td>2007.0</td>\n",
       "      <td>33.209841</td>\n",
       "      <td>-87.569174</td>\n",
       "    </tr>\n",
       "  </tbody>\n",
       "</table>\n",
       "</div>"
      ],
      "text/plain": [
       "  Date Made Public                              Company             City  \\\n",
       "0        16-May-08  Greil Memorial Psychiatric Hospital       Montgomery   \n",
       "1        21-Mar-08                         Compass Bank       Birmingham   \n",
       "2         7-Aug-07              Electronic Data Systems       Montgomery   \n",
       "3         3-Jun-07      Gadsden State Community College  College Gadsden   \n",
       "4         5-Apr-07                   DCH Health Systems       Tuscaloosa   \n",
       "\n",
       "     State Type of breach Type of organization Total Records  \\\n",
       "0  Alabama           PHYS                  EDU             0   \n",
       "1  Alabama           INSD                  BSF     1,000,000   \n",
       "2  Alabama           INSD                  BSO           498   \n",
       "3  Alabama           PHYS                  EDU           400   \n",
       "4  Alabama           PORT                  MED         6,000   \n",
       "\n",
       "                             Description of incident  Year of Breach  \\\n",
       "0  Index cards containing patients \\n            ...          2008.0   \n",
       "1  A database containing names, account \\n       ...          2008.0   \n",
       "2  A former employee \\n            was arrested t...          2007.0   \n",
       "3  Students who took \\n            an Art Appreci...          2007.0   \n",
       "4  An encrypted disc \\n            and hardcopy d...          2007.0   \n",
       "\n",
       "    Latitude  Longitude  \n",
       "0  32.366805 -86.299969  \n",
       "1  33.520661 -86.802490  \n",
       "2  32.366805 -86.299969  \n",
       "3  34.025272 -85.995891  \n",
       "4  33.209841 -87.569174  "
      ]
     },
     "execution_count": 83,
     "metadata": {},
     "output_type": "execute_result"
    }
   ],
   "source": [
    "#Two columns (Information Source, Source URL) are not necessary for analysis. They will be dropped.\n",
    "df = df.drop(['Information Source', 'Source URL'], axis=1)\n",
    "df.head()"
   ]
  },
  {
   "cell_type": "markdown",
   "metadata": {},
   "source": [
    "Remove spaces from field names (rename)\n",
    "- Total Records:           Total_Recs\n",
    "- Description of incident: Description\n",
    "- Year of Breach:          Breach_Year\n",
    "- Type of organization:    Organization_Type\n",
    "- Type of breach:          Breach_Type\n",
    "- Date Made Public         Date_Public"
   ]
  },
  {
   "cell_type": "code",
   "execution_count": 84,
   "metadata": {},
   "outputs": [
    {
     "data": {
      "text/html": [
       "<div>\n",
       "<style scoped>\n",
       "    .dataframe tbody tr th:only-of-type {\n",
       "        vertical-align: middle;\n",
       "    }\n",
       "\n",
       "    .dataframe tbody tr th {\n",
       "        vertical-align: top;\n",
       "    }\n",
       "\n",
       "    .dataframe thead th {\n",
       "        text-align: right;\n",
       "    }\n",
       "</style>\n",
       "<table border=\"1\" class=\"dataframe\">\n",
       "  <thead>\n",
       "    <tr style=\"text-align: right;\">\n",
       "      <th></th>\n",
       "      <th>Date Made Public</th>\n",
       "      <th>Company</th>\n",
       "      <th>City</th>\n",
       "      <th>State</th>\n",
       "      <th>Type of breach</th>\n",
       "      <th>Type of organization</th>\n",
       "      <th>Total_Recs</th>\n",
       "      <th>Description of incident</th>\n",
       "      <th>Year of Breach</th>\n",
       "      <th>Latitude</th>\n",
       "      <th>Longitude</th>\n",
       "    </tr>\n",
       "  </thead>\n",
       "  <tbody>\n",
       "    <tr>\n",
       "      <th>0</th>\n",
       "      <td>16-May-08</td>\n",
       "      <td>Greil Memorial Psychiatric Hospital</td>\n",
       "      <td>Montgomery</td>\n",
       "      <td>Alabama</td>\n",
       "      <td>PHYS</td>\n",
       "      <td>EDU</td>\n",
       "      <td>0</td>\n",
       "      <td>Index cards containing patients \\n            ...</td>\n",
       "      <td>2008.0</td>\n",
       "      <td>32.366805</td>\n",
       "      <td>-86.299969</td>\n",
       "    </tr>\n",
       "    <tr>\n",
       "      <th>1</th>\n",
       "      <td>21-Mar-08</td>\n",
       "      <td>Compass Bank</td>\n",
       "      <td>Birmingham</td>\n",
       "      <td>Alabama</td>\n",
       "      <td>INSD</td>\n",
       "      <td>BSF</td>\n",
       "      <td>1,000,000</td>\n",
       "      <td>A database containing names, account \\n       ...</td>\n",
       "      <td>2008.0</td>\n",
       "      <td>33.520661</td>\n",
       "      <td>-86.802490</td>\n",
       "    </tr>\n",
       "    <tr>\n",
       "      <th>2</th>\n",
       "      <td>7-Aug-07</td>\n",
       "      <td>Electronic Data Systems</td>\n",
       "      <td>Montgomery</td>\n",
       "      <td>Alabama</td>\n",
       "      <td>INSD</td>\n",
       "      <td>BSO</td>\n",
       "      <td>498</td>\n",
       "      <td>A former employee \\n            was arrested t...</td>\n",
       "      <td>2007.0</td>\n",
       "      <td>32.366805</td>\n",
       "      <td>-86.299969</td>\n",
       "    </tr>\n",
       "    <tr>\n",
       "      <th>3</th>\n",
       "      <td>3-Jun-07</td>\n",
       "      <td>Gadsden State Community College</td>\n",
       "      <td>College Gadsden</td>\n",
       "      <td>Alabama</td>\n",
       "      <td>PHYS</td>\n",
       "      <td>EDU</td>\n",
       "      <td>400</td>\n",
       "      <td>Students who took \\n            an Art Appreci...</td>\n",
       "      <td>2007.0</td>\n",
       "      <td>34.025272</td>\n",
       "      <td>-85.995891</td>\n",
       "    </tr>\n",
       "    <tr>\n",
       "      <th>4</th>\n",
       "      <td>5-Apr-07</td>\n",
       "      <td>DCH Health Systems</td>\n",
       "      <td>Tuscaloosa</td>\n",
       "      <td>Alabama</td>\n",
       "      <td>PORT</td>\n",
       "      <td>MED</td>\n",
       "      <td>6,000</td>\n",
       "      <td>An encrypted disc \\n            and hardcopy d...</td>\n",
       "      <td>2007.0</td>\n",
       "      <td>33.209841</td>\n",
       "      <td>-87.569174</td>\n",
       "    </tr>\n",
       "  </tbody>\n",
       "</table>\n",
       "</div>"
      ],
      "text/plain": [
       "  Date Made Public                              Company             City  \\\n",
       "0        16-May-08  Greil Memorial Psychiatric Hospital       Montgomery   \n",
       "1        21-Mar-08                         Compass Bank       Birmingham   \n",
       "2         7-Aug-07              Electronic Data Systems       Montgomery   \n",
       "3         3-Jun-07      Gadsden State Community College  College Gadsden   \n",
       "4         5-Apr-07                   DCH Health Systems       Tuscaloosa   \n",
       "\n",
       "     State Type of breach Type of organization Total_Recs  \\\n",
       "0  Alabama           PHYS                  EDU          0   \n",
       "1  Alabama           INSD                  BSF  1,000,000   \n",
       "2  Alabama           INSD                  BSO        498   \n",
       "3  Alabama           PHYS                  EDU        400   \n",
       "4  Alabama           PORT                  MED      6,000   \n",
       "\n",
       "                             Description of incident  Year of Breach  \\\n",
       "0  Index cards containing patients \\n            ...          2008.0   \n",
       "1  A database containing names, account \\n       ...          2008.0   \n",
       "2  A former employee \\n            was arrested t...          2007.0   \n",
       "3  Students who took \\n            an Art Appreci...          2007.0   \n",
       "4  An encrypted disc \\n            and hardcopy d...          2007.0   \n",
       "\n",
       "    Latitude  Longitude  \n",
       "0  32.366805 -86.299969  \n",
       "1  33.520661 -86.802490  \n",
       "2  32.366805 -86.299969  \n",
       "3  34.025272 -85.995891  \n",
       "4  33.209841 -87.569174  "
      ]
     },
     "execution_count": 84,
     "metadata": {},
     "output_type": "execute_result"
    }
   ],
   "source": [
    "# rename columns\n",
    "df = df.rename(columns={'Total Records': 'Total_Recs'})\n",
    "df.head()"
   ]
  },
  {
   "cell_type": "code",
   "execution_count": 85,
   "metadata": {},
   "outputs": [],
   "source": [
    "# rename columns Description of incident: Description\n",
    "df = df.rename(columns={'Description of incident': 'Description'})"
   ]
  },
  {
   "cell_type": "code",
   "execution_count": 86,
   "metadata": {},
   "outputs": [],
   "source": [
    "# rename columns Year of Breach:          Breach_Year\n",
    "df = df.rename(columns={'Year of Breach': 'Breach_Year'})"
   ]
  },
  {
   "cell_type": "code",
   "execution_count": 87,
   "metadata": {},
   "outputs": [],
   "source": [
    "# rename columns Type of organization:    Organization_Type\n",
    "df = df.rename(columns={'Type of organization': 'Organization_Type'})"
   ]
  },
  {
   "cell_type": "code",
   "execution_count": 88,
   "metadata": {},
   "outputs": [],
   "source": [
    "# rename columns Date Made Public:    Date_Public\n",
    "df = df.rename(columns={'Date Made Public': 'Date_Public'})"
   ]
  },
  {
   "cell_type": "code",
   "execution_count": 89,
   "metadata": {},
   "outputs": [
    {
     "data": {
      "text/html": [
       "<div>\n",
       "<style scoped>\n",
       "    .dataframe tbody tr th:only-of-type {\n",
       "        vertical-align: middle;\n",
       "    }\n",
       "\n",
       "    .dataframe tbody tr th {\n",
       "        vertical-align: top;\n",
       "    }\n",
       "\n",
       "    .dataframe thead th {\n",
       "        text-align: right;\n",
       "    }\n",
       "</style>\n",
       "<table border=\"1\" class=\"dataframe\">\n",
       "  <thead>\n",
       "    <tr style=\"text-align: right;\">\n",
       "      <th></th>\n",
       "      <th>Date_Public</th>\n",
       "      <th>Company</th>\n",
       "      <th>City</th>\n",
       "      <th>State</th>\n",
       "      <th>Breach_Type</th>\n",
       "      <th>Organization_Type</th>\n",
       "      <th>Total_Recs</th>\n",
       "      <th>Description</th>\n",
       "      <th>Breach_Year</th>\n",
       "      <th>Latitude</th>\n",
       "      <th>Longitude</th>\n",
       "    </tr>\n",
       "  </thead>\n",
       "  <tbody>\n",
       "    <tr>\n",
       "      <th>0</th>\n",
       "      <td>16-May-08</td>\n",
       "      <td>Greil Memorial Psychiatric Hospital</td>\n",
       "      <td>Montgomery</td>\n",
       "      <td>Alabama</td>\n",
       "      <td>PHYS</td>\n",
       "      <td>EDU</td>\n",
       "      <td>0</td>\n",
       "      <td>Index cards containing patients \\n            ...</td>\n",
       "      <td>2008.0</td>\n",
       "      <td>32.366805</td>\n",
       "      <td>-86.299969</td>\n",
       "    </tr>\n",
       "    <tr>\n",
       "      <th>1</th>\n",
       "      <td>21-Mar-08</td>\n",
       "      <td>Compass Bank</td>\n",
       "      <td>Birmingham</td>\n",
       "      <td>Alabama</td>\n",
       "      <td>INSD</td>\n",
       "      <td>BSF</td>\n",
       "      <td>1,000,000</td>\n",
       "      <td>A database containing names, account \\n       ...</td>\n",
       "      <td>2008.0</td>\n",
       "      <td>33.520661</td>\n",
       "      <td>-86.802490</td>\n",
       "    </tr>\n",
       "    <tr>\n",
       "      <th>2</th>\n",
       "      <td>7-Aug-07</td>\n",
       "      <td>Electronic Data Systems</td>\n",
       "      <td>Montgomery</td>\n",
       "      <td>Alabama</td>\n",
       "      <td>INSD</td>\n",
       "      <td>BSO</td>\n",
       "      <td>498</td>\n",
       "      <td>A former employee \\n            was arrested t...</td>\n",
       "      <td>2007.0</td>\n",
       "      <td>32.366805</td>\n",
       "      <td>-86.299969</td>\n",
       "    </tr>\n",
       "    <tr>\n",
       "      <th>3</th>\n",
       "      <td>3-Jun-07</td>\n",
       "      <td>Gadsden State Community College</td>\n",
       "      <td>College Gadsden</td>\n",
       "      <td>Alabama</td>\n",
       "      <td>PHYS</td>\n",
       "      <td>EDU</td>\n",
       "      <td>400</td>\n",
       "      <td>Students who took \\n            an Art Appreci...</td>\n",
       "      <td>2007.0</td>\n",
       "      <td>34.025272</td>\n",
       "      <td>-85.995891</td>\n",
       "    </tr>\n",
       "    <tr>\n",
       "      <th>4</th>\n",
       "      <td>5-Apr-07</td>\n",
       "      <td>DCH Health Systems</td>\n",
       "      <td>Tuscaloosa</td>\n",
       "      <td>Alabama</td>\n",
       "      <td>PORT</td>\n",
       "      <td>MED</td>\n",
       "      <td>6,000</td>\n",
       "      <td>An encrypted disc \\n            and hardcopy d...</td>\n",
       "      <td>2007.0</td>\n",
       "      <td>33.209841</td>\n",
       "      <td>-87.569174</td>\n",
       "    </tr>\n",
       "  </tbody>\n",
       "</table>\n",
       "</div>"
      ],
      "text/plain": [
       "  Date_Public                              Company             City    State  \\\n",
       "0   16-May-08  Greil Memorial Psychiatric Hospital       Montgomery  Alabama   \n",
       "1   21-Mar-08                         Compass Bank       Birmingham  Alabama   \n",
       "2    7-Aug-07              Electronic Data Systems       Montgomery  Alabama   \n",
       "3    3-Jun-07      Gadsden State Community College  College Gadsden  Alabama   \n",
       "4    5-Apr-07                   DCH Health Systems       Tuscaloosa  Alabama   \n",
       "\n",
       "  Breach_Type Organization_Type Total_Recs  \\\n",
       "0        PHYS               EDU          0   \n",
       "1        INSD               BSF  1,000,000   \n",
       "2        INSD               BSO        498   \n",
       "3        PHYS               EDU        400   \n",
       "4        PORT               MED      6,000   \n",
       "\n",
       "                                         Description  Breach_Year   Latitude  \\\n",
       "0  Index cards containing patients \\n            ...       2008.0  32.366805   \n",
       "1  A database containing names, account \\n       ...       2008.0  33.520661   \n",
       "2  A former employee \\n            was arrested t...       2007.0  32.366805   \n",
       "3  Students who took \\n            an Art Appreci...       2007.0  34.025272   \n",
       "4  An encrypted disc \\n            and hardcopy d...       2007.0  33.209841   \n",
       "\n",
       "   Longitude  \n",
       "0 -86.299969  \n",
       "1 -86.802490  \n",
       "2 -86.299969  \n",
       "3 -85.995891  \n",
       "4 -87.569174  "
      ]
     },
     "execution_count": 89,
     "metadata": {},
     "output_type": "execute_result"
    }
   ],
   "source": [
    "# rename columns Type of breach:          Breach_Type\n",
    "df = df.rename(columns={'Type of breach': 'Breach_Type'})\n",
    "df.head()"
   ]
  },
  {
   "cell_type": "markdown",
   "metadata": {},
   "source": [
    "*First, need to resolve missing Year of Breach (since date made public all there, can convert to date and use that year).  Convert the date from an object to a date timestamp.*"
   ]
  },
  {
   "cell_type": "code",
   "execution_count": 90,
   "metadata": {},
   "outputs": [],
   "source": [
    "df['Date_Public'] =  pd.to_datetime(df['Date_Public'])"
   ]
  },
  {
   "cell_type": "code",
   "execution_count": 91,
   "metadata": {},
   "outputs": [
    {
     "data": {
      "text/html": [
       "<div>\n",
       "<style scoped>\n",
       "    .dataframe tbody tr th:only-of-type {\n",
       "        vertical-align: middle;\n",
       "    }\n",
       "\n",
       "    .dataframe tbody tr th {\n",
       "        vertical-align: top;\n",
       "    }\n",
       "\n",
       "    .dataframe thead th {\n",
       "        text-align: right;\n",
       "    }\n",
       "</style>\n",
       "<table border=\"1\" class=\"dataframe\">\n",
       "  <thead>\n",
       "    <tr style=\"text-align: right;\">\n",
       "      <th></th>\n",
       "      <th>Date_Public</th>\n",
       "      <th>Company</th>\n",
       "      <th>City</th>\n",
       "      <th>State</th>\n",
       "      <th>Breach_Type</th>\n",
       "      <th>Organization_Type</th>\n",
       "      <th>Total_Recs</th>\n",
       "      <th>Description</th>\n",
       "      <th>Latitude</th>\n",
       "      <th>Longitude</th>\n",
       "    </tr>\n",
       "  </thead>\n",
       "  <tbody>\n",
       "    <tr>\n",
       "      <th>0</th>\n",
       "      <td>2008-05-16</td>\n",
       "      <td>Greil Memorial Psychiatric Hospital</td>\n",
       "      <td>Montgomery</td>\n",
       "      <td>Alabama</td>\n",
       "      <td>PHYS</td>\n",
       "      <td>EDU</td>\n",
       "      <td>0</td>\n",
       "      <td>Index cards containing patients \\n            ...</td>\n",
       "      <td>32.366805</td>\n",
       "      <td>-86.299969</td>\n",
       "    </tr>\n",
       "    <tr>\n",
       "      <th>1</th>\n",
       "      <td>2008-03-21</td>\n",
       "      <td>Compass Bank</td>\n",
       "      <td>Birmingham</td>\n",
       "      <td>Alabama</td>\n",
       "      <td>INSD</td>\n",
       "      <td>BSF</td>\n",
       "      <td>1,000,000</td>\n",
       "      <td>A database containing names, account \\n       ...</td>\n",
       "      <td>33.520661</td>\n",
       "      <td>-86.802490</td>\n",
       "    </tr>\n",
       "    <tr>\n",
       "      <th>2</th>\n",
       "      <td>2007-08-07</td>\n",
       "      <td>Electronic Data Systems</td>\n",
       "      <td>Montgomery</td>\n",
       "      <td>Alabama</td>\n",
       "      <td>INSD</td>\n",
       "      <td>BSO</td>\n",
       "      <td>498</td>\n",
       "      <td>A former employee \\n            was arrested t...</td>\n",
       "      <td>32.366805</td>\n",
       "      <td>-86.299969</td>\n",
       "    </tr>\n",
       "    <tr>\n",
       "      <th>3</th>\n",
       "      <td>2007-06-03</td>\n",
       "      <td>Gadsden State Community College</td>\n",
       "      <td>College Gadsden</td>\n",
       "      <td>Alabama</td>\n",
       "      <td>PHYS</td>\n",
       "      <td>EDU</td>\n",
       "      <td>400</td>\n",
       "      <td>Students who took \\n            an Art Appreci...</td>\n",
       "      <td>34.025272</td>\n",
       "      <td>-85.995891</td>\n",
       "    </tr>\n",
       "    <tr>\n",
       "      <th>4</th>\n",
       "      <td>2007-04-05</td>\n",
       "      <td>DCH Health Systems</td>\n",
       "      <td>Tuscaloosa</td>\n",
       "      <td>Alabama</td>\n",
       "      <td>PORT</td>\n",
       "      <td>MED</td>\n",
       "      <td>6,000</td>\n",
       "      <td>An encrypted disc \\n            and hardcopy d...</td>\n",
       "      <td>33.209841</td>\n",
       "      <td>-87.569174</td>\n",
       "    </tr>\n",
       "  </tbody>\n",
       "</table>\n",
       "</div>"
      ],
      "text/plain": [
       "  Date_Public                              Company             City    State  \\\n",
       "0  2008-05-16  Greil Memorial Psychiatric Hospital       Montgomery  Alabama   \n",
       "1  2008-03-21                         Compass Bank       Birmingham  Alabama   \n",
       "2  2007-08-07              Electronic Data Systems       Montgomery  Alabama   \n",
       "3  2007-06-03      Gadsden State Community College  College Gadsden  Alabama   \n",
       "4  2007-04-05                   DCH Health Systems       Tuscaloosa  Alabama   \n",
       "\n",
       "  Breach_Type Organization_Type Total_Recs  \\\n",
       "0        PHYS               EDU          0   \n",
       "1        INSD               BSF  1,000,000   \n",
       "2        INSD               BSO        498   \n",
       "3        PHYS               EDU        400   \n",
       "4        PORT               MED      6,000   \n",
       "\n",
       "                                         Description   Latitude  Longitude  \n",
       "0  Index cards containing patients \\n            ...  32.366805 -86.299969  \n",
       "1  A database containing names, account \\n       ...  33.520661 -86.802490  \n",
       "2  A former employee \\n            was arrested t...  32.366805 -86.299969  \n",
       "3  Students who took \\n            an Art Appreci...  34.025272 -85.995891  \n",
       "4  An encrypted disc \\n            and hardcopy d...  33.209841 -87.569174  "
      ]
     },
     "execution_count": 91,
     "metadata": {},
     "output_type": "execute_result"
    }
   ],
   "source": [
    "#Drop column Breach_Year which has missing values. No longer needed since Date_Public has no missing values.\n",
    "df = df.drop(['Breach_Year'], axis=1)\n",
    "df.head()"
   ]
  },
  {
   "cell_type": "code",
   "execution_count": 109,
   "metadata": {},
   "outputs": [
    {
     "data": {
      "text/plain": [
       "Date_Public             0\n",
       "Company                 0\n",
       "City                 2520\n",
       "State                  68\n",
       "Breach_Type             0\n",
       "Organization_Type       0\n",
       "Total_Recs              0\n",
       "Description             3\n",
       "Latitude                0\n",
       "Longitude               0\n",
       "dtype: int64"
      ]
     },
     "execution_count": 109,
     "metadata": {},
     "output_type": "execute_result"
    }
   ],
   "source": [
    "# replace null value with zero \n",
    "df = df.fillna({'Total_Recs': 0})\n",
    "df.isnull().sum()"
   ]
  },
  {
   "cell_type": "code",
   "execution_count": 112,
   "metadata": {},
   "outputs": [],
   "source": [
    "#Convert Total_Recs to float\n",
    "df[\"Total_Recs\"] = df[\"Total_Recs\"].str.replace(\",\",\"\").astype(float)"
   ]
  },
  {
   "cell_type": "code",
   "execution_count": 113,
   "metadata": {},
   "outputs": [],
   "source": [
    "df[\"Total_Recs\"] = df[\"Total_Recs\"].astype(int)"
   ]
  },
  {
   "cell_type": "code",
   "execution_count": 114,
   "metadata": {},
   "outputs": [
    {
     "data": {
      "text/html": [
       "<div>\n",
       "<style scoped>\n",
       "    .dataframe tbody tr th:only-of-type {\n",
       "        vertical-align: middle;\n",
       "    }\n",
       "\n",
       "    .dataframe tbody tr th {\n",
       "        vertical-align: top;\n",
       "    }\n",
       "\n",
       "    .dataframe thead th {\n",
       "        text-align: right;\n",
       "    }\n",
       "</style>\n",
       "<table border=\"1\" class=\"dataframe\">\n",
       "  <thead>\n",
       "    <tr style=\"text-align: right;\">\n",
       "      <th></th>\n",
       "      <th>Date_Public</th>\n",
       "      <th>Company</th>\n",
       "      <th>City</th>\n",
       "      <th>State</th>\n",
       "      <th>Breach_Type</th>\n",
       "      <th>Organization_Type</th>\n",
       "      <th>Total_Recs</th>\n",
       "      <th>Description</th>\n",
       "      <th>Latitude</th>\n",
       "      <th>Longitude</th>\n",
       "    </tr>\n",
       "  </thead>\n",
       "  <tbody>\n",
       "    <tr>\n",
       "      <th>0</th>\n",
       "      <td>2008-05-16</td>\n",
       "      <td>Greil Memorial Psychiatric Hospital</td>\n",
       "      <td>Montgomery</td>\n",
       "      <td>Alabama</td>\n",
       "      <td>PHYS</td>\n",
       "      <td>EDU</td>\n",
       "      <td>0</td>\n",
       "      <td>Index cards containing patients \\n            ...</td>\n",
       "      <td>32.366805</td>\n",
       "      <td>-86.299969</td>\n",
       "    </tr>\n",
       "    <tr>\n",
       "      <th>1</th>\n",
       "      <td>2008-03-21</td>\n",
       "      <td>Compass Bank</td>\n",
       "      <td>Birmingham</td>\n",
       "      <td>Alabama</td>\n",
       "      <td>INSD</td>\n",
       "      <td>BSF</td>\n",
       "      <td>1000000</td>\n",
       "      <td>A database containing names, account \\n       ...</td>\n",
       "      <td>33.520661</td>\n",
       "      <td>-86.802490</td>\n",
       "    </tr>\n",
       "    <tr>\n",
       "      <th>2</th>\n",
       "      <td>2007-08-07</td>\n",
       "      <td>Electronic Data Systems</td>\n",
       "      <td>Montgomery</td>\n",
       "      <td>Alabama</td>\n",
       "      <td>INSD</td>\n",
       "      <td>BSO</td>\n",
       "      <td>498</td>\n",
       "      <td>A former employee \\n            was arrested t...</td>\n",
       "      <td>32.366805</td>\n",
       "      <td>-86.299969</td>\n",
       "    </tr>\n",
       "    <tr>\n",
       "      <th>3</th>\n",
       "      <td>2007-06-03</td>\n",
       "      <td>Gadsden State Community College</td>\n",
       "      <td>College Gadsden</td>\n",
       "      <td>Alabama</td>\n",
       "      <td>PHYS</td>\n",
       "      <td>EDU</td>\n",
       "      <td>400</td>\n",
       "      <td>Students who took \\n            an Art Appreci...</td>\n",
       "      <td>34.025272</td>\n",
       "      <td>-85.995891</td>\n",
       "    </tr>\n",
       "    <tr>\n",
       "      <th>4</th>\n",
       "      <td>2007-04-05</td>\n",
       "      <td>DCH Health Systems</td>\n",
       "      <td>Tuscaloosa</td>\n",
       "      <td>Alabama</td>\n",
       "      <td>PORT</td>\n",
       "      <td>MED</td>\n",
       "      <td>6000</td>\n",
       "      <td>An encrypted disc \\n            and hardcopy d...</td>\n",
       "      <td>33.209841</td>\n",
       "      <td>-87.569174</td>\n",
       "    </tr>\n",
       "  </tbody>\n",
       "</table>\n",
       "</div>"
      ],
      "text/plain": [
       "  Date_Public                              Company             City    State  \\\n",
       "0  2008-05-16  Greil Memorial Psychiatric Hospital       Montgomery  Alabama   \n",
       "1  2008-03-21                         Compass Bank       Birmingham  Alabama   \n",
       "2  2007-08-07              Electronic Data Systems       Montgomery  Alabama   \n",
       "3  2007-06-03      Gadsden State Community College  College Gadsden  Alabama   \n",
       "4  2007-04-05                   DCH Health Systems       Tuscaloosa  Alabama   \n",
       "\n",
       "  Breach_Type Organization_Type  Total_Recs  \\\n",
       "0        PHYS               EDU           0   \n",
       "1        INSD               BSF     1000000   \n",
       "2        INSD               BSO         498   \n",
       "3        PHYS               EDU         400   \n",
       "4        PORT               MED        6000   \n",
       "\n",
       "                                         Description   Latitude  Longitude  \n",
       "0  Index cards containing patients \\n            ...  32.366805 -86.299969  \n",
       "1  A database containing names, account \\n       ...  33.520661 -86.802490  \n",
       "2  A former employee \\n            was arrested t...  32.366805 -86.299969  \n",
       "3  Students who took \\n            an Art Appreci...  34.025272 -85.995891  \n",
       "4  An encrypted disc \\n            and hardcopy d...  33.209841 -87.569174  "
      ]
     },
     "execution_count": 114,
     "metadata": {},
     "output_type": "execute_result"
    }
   ],
   "source": [
    "df.head()"
   ]
  },
  {
   "cell_type": "code",
   "execution_count": 115,
   "metadata": {},
   "outputs": [],
   "source": [
    "# replace null value with 'not specified' \n",
    "df = df.fillna({'City': 'Not Specified'})"
   ]
  },
  {
   "cell_type": "code",
   "execution_count": 116,
   "metadata": {},
   "outputs": [],
   "source": [
    "# replace null value with 'not specified' \n",
    "df = df.fillna({'State': 'Not Specified'})"
   ]
  },
  {
   "cell_type": "code",
   "execution_count": 117,
   "metadata": {},
   "outputs": [
    {
     "data": {
      "text/plain": [
       "Date_Public          0\n",
       "Company              0\n",
       "City                 0\n",
       "State                0\n",
       "Breach_Type          0\n",
       "Organization_Type    0\n",
       "Total_Recs           0\n",
       "Description          0\n",
       "Latitude             0\n",
       "Longitude            0\n",
       "dtype: int64"
      ]
     },
     "execution_count": 117,
     "metadata": {},
     "output_type": "execute_result"
    }
   ],
   "source": [
    "# replace null value with 'not specified' \n",
    "df = df.fillna({'Description': 'None'})\n",
    "df.isnull().sum()"
   ]
  },
  {
   "cell_type": "markdown",
   "metadata": {},
   "source": [
    "# Data understanding & processing (ETL)"
   ]
  },
  {
   "cell_type": "code",
   "execution_count": 118,
   "metadata": {},
   "outputs": [
    {
     "name": "stdout",
     "output_type": "stream",
     "text": [
      "<class 'pandas.core.frame.DataFrame'>\n",
      "RangeIndex: 8202 entries, 0 to 8201\n",
      "Data columns (total 10 columns):\n",
      "Date_Public          8202 non-null datetime64[ns]\n",
      "Company              8202 non-null object\n",
      "City                 8202 non-null object\n",
      "State                8202 non-null object\n",
      "Breach_Type          8202 non-null object\n",
      "Organization_Type    8202 non-null object\n",
      "Total_Recs           8202 non-null int32\n",
      "Description          8202 non-null object\n",
      "Latitude             8202 non-null float64\n",
      "Longitude            8202 non-null float64\n",
      "dtypes: datetime64[ns](1), float64(2), int32(1), object(6)\n",
      "memory usage: 608.8+ KB\n"
     ]
    }
   ],
   "source": [
    "#show the information about the dataset\n",
    "df.info()"
   ]
  },
  {
   "cell_type": "code",
   "execution_count": 119,
   "metadata": {},
   "outputs": [
    {
     "data": {
      "text/plain": [
       "count     8202\n",
       "unique       7\n",
       "top        MED\n",
       "freq      4078\n",
       "Name: Organization_Type, dtype: object"
      ]
     },
     "execution_count": 119,
     "metadata": {},
     "output_type": "execute_result"
    }
   ],
   "source": [
    "#describe the column Type of Organization only (e.g., count, unique, frequency)\n",
    "df['Organization_Type'].describe()"
   ]
  },
  {
   "cell_type": "markdown",
   "metadata": {},
   "source": [
    "##### 'MED' is top organization type"
   ]
  },
  {
   "cell_type": "code",
   "execution_count": 120,
   "metadata": {},
   "outputs": [
    {
     "data": {
      "text/plain": [
       "count     8202\n",
       "unique       8\n",
       "top       HACK\n",
       "freq      2454\n",
       "Name: Breach_Type, dtype: object"
      ]
     },
     "execution_count": 120,
     "metadata": {},
     "output_type": "execute_result"
    }
   ],
   "source": [
    "#describe the column Type of Breach only (e.g., count, unique, frequency)\n",
    "df['Breach_Type'].describe()\n"
   ]
  },
  {
   "cell_type": "markdown",
   "metadata": {},
   "source": [
    "##### 'HACK' is top type of breach."
   ]
  },
  {
   "cell_type": "code",
   "execution_count": 121,
   "metadata": {},
   "outputs": [
    {
     "data": {
      "text/plain": [
       "count              8202\n",
       "unique             1595\n",
       "top       Not Specified\n",
       "freq               2520\n",
       "Name: City, dtype: object"
      ]
     },
     "execution_count": 121,
     "metadata": {},
     "output_type": "execute_result"
    }
   ],
   "source": [
    "#describe the column City only (e.g., count, unique, frequency)\n",
    "df['City'].describe()"
   ]
  },
  {
   "cell_type": "code",
   "execution_count": 122,
   "metadata": {},
   "outputs": [
    {
     "data": {
      "text/plain": [
       "count           8202\n",
       "unique            66\n",
       "top       California\n",
       "freq            1287\n",
       "Name: State, dtype: object"
      ]
     },
     "execution_count": 122,
     "metadata": {},
     "output_type": "execute_result"
    }
   ],
   "source": [
    "#describe the column State only (e.g., count, unique, frequency)\n",
    "df['State'].describe()"
   ]
  },
  {
   "cell_type": "markdown",
   "metadata": {},
   "source": [
    "##### 'California' is top state for breaches reported."
   ]
  },
  {
   "cell_type": "code",
   "execution_count": 123,
   "metadata": {},
   "outputs": [
    {
     "data": {
      "text/plain": [
       "array([[<matplotlib.axes._subplots.AxesSubplot object at 0x000000000AE580F0>,\n",
       "        <matplotlib.axes._subplots.AxesSubplot object at 0x000000000BAF51D0>],\n",
       "       [<matplotlib.axes._subplots.AxesSubplot object at 0x000000000BC105C0>,\n",
       "        <matplotlib.axes._subplots.AxesSubplot object at 0x000000000BC509B0>]], dtype=object)"
      ]
     },
     "execution_count": 123,
     "metadata": {},
     "output_type": "execute_result"
    },
    {
     "data": {
      "image/png": "[encoded data removed]",
      "text/plain": [
       "<Figure size 576x576 with 4 Axes>"
      ]
     },
     "metadata": {},
     "output_type": "display_data"
    }
   ],
   "source": [
    "df.hist(figsize=(8,8))"
   ]
  }
 ],
 "metadata": {
  "kernelspec": {
   "display_name": "Python [default]",
   "language": "python",
   "name": "python2"
  },
  "language_info": {
   "codemirror_mode": {
    "name": "ipython",
    "version": 2
   },
   "file_extension": ".py",
   "mimetype": "text/x-python",
   "name": "python",
   "nbconvert_exporter": "python",
   "pygments_lexer": "ipython2",
   "version": "2.7.14"
  }
 },
 "nbformat": 4,
 "nbformat_minor": 1
}
